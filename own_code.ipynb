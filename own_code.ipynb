{
 "cells": [
  {
   "cell_type": "markdown",
   "id": "0c1f6315",
   "metadata": {},
   "source": [
    "# Book Lovers ❤️"
   ]
  },
  {
   "cell_type": "markdown",
   "id": "b10ccd47",
   "metadata": {},
   "source": [
    "### 📚 Because reading is sexy 📚"
   ]
  },
  {
   "cell_type": "markdown",
   "id": "1fffe2ed",
   "metadata": {},
   "source": [
    "(Explicar un poco) "
   ]
  },
  {
   "cell_type": "markdown",
   "id": "fc599dae",
   "metadata": {},
   "source": [
    "## Extraer los datos\n"
   ]
  },
  {
   "cell_type": "markdown",
   "id": "0952e5ef",
   "metadata": {},
   "source": [
    "Se va a trabajar con la API de Goodreaders\n",
    "Pasos: \n",
    "    - Conseguir token y etc"
   ]
  },
  {
   "cell_type": "code",
   "execution_count": 2,
   "id": "89db699a",
   "metadata": {},
   "outputs": [],
   "source": [
    "import os\n",
    "import json\n",
    "import requests as req    #Se importa el request, ya está pipinstaladísimo\n",
    "import pandas as pd\n",
    "\n",
    "#No ha funcionado porque parece ser que Amazon ha comprado la página y se ha cargado la API 🤡\n",
    "#Hay que cambiar la idea. Nueva API de las bibliotecas de Madrid"
   ]
  },
  {
   "cell_type": "code",
   "execution_count": 3,
   "id": "e015751f",
   "metadata": {},
   "outputs": [],
   "source": [
    "url='https://datos.madrid.es/egob/catalogo/201747-0-bibliobuses-bibliotecas.json'   #La API es del AYTO de Madrid"
   ]
  },
  {
   "cell_type": "code",
   "execution_count": 4,
   "id": "26a18298",
   "metadata": {},
   "outputs": [],
   "source": [
    "resp = req.get(url)     #get para traer la url\n"
   ]
  },
  {
   "cell_type": "code",
   "execution_count": 5,
   "id": "9ad8c0c8",
   "metadata": {},
   "outputs": [
    {
     "data": {
      "text/plain": [
       "'\\n{\\n\\t\"@context\": {\\n\\t\\t\"c\": \"http://www.w3.org/2002/12/cal#\",\\n\\t\\t\"dcterms\": \"http://purl.org/dc/terms/\",\\n\\t\\t\"geo\": \"http://www.w3.org/2003/01/geo/wgs84_pos#\",\\n\\t\\t\"loc\": \"http://purl.org/ctic/infraestructuras/localizacion#\",\\n\\t\\t\"org\": \"http://purl.org/ctic/infraestructuras/organizacion#\",\\n\\t\\t\"vcard\": \"http://www.w3.org/2006/vcard/ns#\",\\n\\t\\t\"schema\": \"https://schema.org/\",\\n\\t\\t\"title\": \"vcard:fn\",\\n\\t\\t\"id\": \"dcterms:identifier\",\\n\\t\\t\"relation\": \"dcterms:relation\",\\n\\t\\t\"references\": \"dcterms:references\",\\n\\t\\t\"address\"'"
      ]
     },
     "execution_count": 5,
     "metadata": {},
     "output_type": "execute_result"
    }
   ],
   "source": [
    "#checking\n",
    "req.get(url).text[:500]   #500 primeros caracteres.  "
   ]
  },
  {
   "cell_type": "code",
   "execution_count": 6,
   "id": "5a523315",
   "metadata": {},
   "outputs": [],
   "source": [
    "df = resp.json()  #Con esta nueva API Sí que funciona. "
   ]
  },
  {
   "cell_type": "code",
   "execution_count": 7,
   "id": "5fd49d45",
   "metadata": {},
   "outputs": [
    {
     "data": {
      "text/plain": [
       "dict_keys(['@context', '@graph'])"
      ]
     },
     "execution_count": 7,
     "metadata": {},
     "output_type": "execute_result"
    }
   ],
   "source": [
    "#data = pd.DataFrame(df)\n",
    "#data.head(10)\n",
    "resp.json().keys()    #solo tiene esta mierda de keys"
   ]
  },
  {
   "cell_type": "code",
   "execution_count": 8,
   "id": "4656f878",
   "metadata": {},
   "outputs": [],
   "source": [
    "#para sacar el diccionario del diccionario\n"
   ]
  },
  {
   "cell_type": "code",
   "execution_count": 10,
   "id": "01b3a602",
   "metadata": {},
   "outputs": [
    {
     "data": {
      "text/plain": [
       "{'c': 'http://www.w3.org/2002/12/cal#',\n",
       " 'dcterms': 'http://purl.org/dc/terms/',\n",
       " 'geo': 'http://www.w3.org/2003/01/geo/wgs84_pos#',\n",
       " 'loc': 'http://purl.org/ctic/infraestructuras/localizacion#',\n",
       " 'org': 'http://purl.org/ctic/infraestructuras/organizacion#',\n",
       " 'vcard': 'http://www.w3.org/2006/vcard/ns#',\n",
       " 'schema': 'https://schema.org/',\n",
       " 'title': 'vcard:fn',\n",
       " 'id': 'dcterms:identifier',\n",
       " 'relation': 'dcterms:relation',\n",
       " 'references': 'dcterms:references',\n",
       " 'address': 'vcard:adr',\n",
       " 'area': 'loc:barrio',\n",
       " 'district': 'loc:distrito',\n",
       " 'locality': 'vcard:locality',\n",
       " 'postal-code': 'vcard:postal-code',\n",
       " 'street-address': 'vcard:street-address',\n",
       " 'location': 'vcard:geo',\n",
       " 'latitude': 'geo:lat',\n",
       " 'longitude': 'geo:long',\n",
       " 'organization': 'vcard:org',\n",
       " 'organization-desc': 'dcterms:description',\n",
       " 'accesibility': 'org:accesibilidad',\n",
       " 'services': 'org:servicios',\n",
       " 'schedule': 'org:horario',\n",
       " 'organization-name': 'vcard:organization-name',\n",
       " 'description': 'c:summary',\n",
       " 'link': 'c:url',\n",
       " 'uid': 'c:uid',\n",
       " 'dtstart': 'c:dtstart',\n",
       " 'dtend': 'c:dtend',\n",
       " 'time': 'c:time',\n",
       " 'excluded-days': 'c:exdate',\n",
       " 'event-location': 'c:location',\n",
       " 'free': 'schema:free',\n",
       " 'price': 'c:resource',\n",
       " 'recurrence': 'c:rrule',\n",
       " 'days': 'c:byday',\n",
       " 'frequency': 'c:freq',\n",
       " 'interval': 'c:interval',\n",
       " 'audience': 'dc:audience'}"
      ]
     },
     "execution_count": 10,
     "metadata": {},
     "output_type": "execute_result"
    }
   ],
   "source": [
    "resp.json()['@context']    #acceder al diccionario dentro del diccionario"
   ]
  },
  {
   "cell_type": "code",
   "execution_count": 146,
   "id": "df8eedb8",
   "metadata": {},
   "outputs": [],
   "source": [
    "df1 = resp.json()['@context']  #campos específicos"
   ]
  },
  {
   "cell_type": "code",
   "execution_count": 148,
   "id": "d099c572",
   "metadata": {},
   "outputs": [
    {
     "data": {
      "text/plain": [
       "dict_keys(['c', 'dcterms', 'geo', 'loc', 'org', 'vcard', 'schema', 'title', 'id', 'relation', 'references', 'address', 'area', 'district', 'locality', 'postal-code', 'street-address', 'location', 'latitude', 'longitude', 'organization', 'organization-desc', 'accesibility', 'services', 'schedule', 'organization-name', 'description', 'link', 'uid', 'dtstart', 'dtend', 'time', 'excluded-days', 'event-location', 'free', 'price', 'recurrence', 'days', 'frequency', 'interval', 'audience'])"
      ]
     },
     "execution_count": 148,
     "metadata": {},
     "output_type": "execute_result"
    }
   ],
   "source": [
    "df1.keys()"
   ]
  },
  {
   "cell_type": "code",
   "execution_count": null,
   "id": "73a25b88",
   "metadata": {},
   "outputs": [],
   "source": []
  },
  {
   "cell_type": "code",
   "execution_count": 41,
   "id": "e8e62c0c",
   "metadata": {
    "scrolled": true
   },
   "outputs": [
    {
     "data": {
      "text/plain": [
       "{'@id': 'https://datos.madrid.es/egob/catalogo/tipo/entidadesyorganismos/8053214-bibliored.json',\n",
       " '@type': 'https://datos.madrid.es/egob/kos/entidadesYorganismos/BibliotecasPublicas',\n",
       " 'id': '8053214',\n",
       " 'title': 'Bibliored',\n",
       " 'relation': 'http://www.madrid.es/sites/v/index.jsp?vgnextchannel=bfa48ab43d6bb410VgnVCM100000171f5a0aRCRD&vgnextoid=917c40221457d410VgnVCM2000000c205a0aRCRD',\n",
       " 'address': {'district': {'@id': 'https://datos.madrid.es/egob/kos/Provincia/Madrid/Municipio/Madrid/Distrito/Chamartin'},\n",
       "  'area': {'@id': 'https://datos.madrid.es/egob/kos/Provincia/Madrid/Municipio/Madrid/Distrito/Chamartin/Barrio/CiudadJardin'},\n",
       "  'locality': 'MADRID',\n",
       "  'postal-code': '28002',\n",
       "  'street-address': 'CALLE PRINCIPE DE VERGARA 140'},\n",
       " 'location': {'latitude': 40.44444653179131, 'longitude': -3.67813993012987},\n",
       " 'organization': {'organization-desc': 'El Bibliored es un servicio de extensión bibliotecaria destinado al fomento de la lectura mediante el préstamo gratuito de libros, un proyecto similar al de Bibliometro pero en la superficie. Existen dos módulos: el de el Centro Cultural Galileo y la Sala León Felipe. El servicio, gestionado por el Ayuntamiento de Madrid, se coordina desde el Departamento de Bibliotecas Públicas, localizado en la calle Príncipe de Vergara, 140.\\xa0\\xa0',\n",
       "  'accesibility': '1',\n",
       "  'schedule': 'Apertura de lunes a viernes.  Horario: de 13:30 a 20 horas.  Cerrado: festivos y los días 24 y 31 de diciembre.',\n",
       "  'services': 'Datos de localización:   Bibliored Galileo: calle Galileo, 39 (Chamberí). Teléfono: 915 913 901.   Bibliored León Felipe: calle Leonor Góngora, 19 (Villaverde). Teléfono: 915884181.   Servicios:  Préstamo y renovación de libros.  Acceda al catálogo  para la búsqueda de libros y renovar sus préstamos.',\n",
       "  'organization-name': 'Bibliored'}}"
      ]
     },
     "execution_count": 41,
     "metadata": {},
     "output_type": "execute_result"
    }
   ],
   "source": [
    "para_sacar = resp.json()['@graph']    #Campos \n",
    "para_sacar[1]"
   ]
  },
  {
   "cell_type": "code",
   "execution_count": 43,
   "id": "d686c6b2",
   "metadata": {},
   "outputs": [
    {
     "data": {
      "text/plain": [
       "dict_keys(['@id', '@type', 'id', 'title', 'relation', 'address', 'location', 'organization'])"
      ]
     },
     "execution_count": 43,
     "metadata": {},
     "output_type": "execute_result"
    }
   ],
   "source": [
    "para_sacar[1].keys()   #para ver las keys del dict"
   ]
  },
  {
   "cell_type": "code",
   "execution_count": null,
   "id": "0b2d2e9b",
   "metadata": {},
   "outputs": [],
   "source": []
  },
  {
   "cell_type": "code",
   "execution_count": 65,
   "id": "0e749c2b",
   "metadata": {},
   "outputs": [],
   "source": [
    "marco = json_normalize(para_sacar)   #F U N C I O N A. Te saca las columnas bien. "
   ]
  },
  {
   "cell_type": "code",
   "execution_count": 66,
   "id": "16b2caf0",
   "metadata": {},
   "outputs": [
    {
     "data": {
      "text/plain": [
       "pandas.core.frame.DataFrame"
      ]
     },
     "execution_count": 66,
     "metadata": {},
     "output_type": "execute_result"
    }
   ],
   "source": [
    "type(marco)    #YA es un df"
   ]
  },
  {
   "cell_type": "code",
   "execution_count": 67,
   "id": "bce72394",
   "metadata": {},
   "outputs": [
    {
     "data": {
      "text/plain": [
       "@id                                object\n",
       "@type                              object\n",
       "id                                 object\n",
       "title                              object\n",
       "relation                           object\n",
       "address.district.@id               object\n",
       "address.area.@id                   object\n",
       "address.locality                   object\n",
       "address.postal-code                object\n",
       "address.street-address             object\n",
       "location.latitude                 float64\n",
       "location.longitude                float64\n",
       "organization.organization-desc     object\n",
       "organization.accesibility          object\n",
       "organization.schedule              object\n",
       "organization.services              object\n",
       "organization.organization-name     object\n",
       "dtype: object"
      ]
     },
     "execution_count": 67,
     "metadata": {},
     "output_type": "execute_result"
    }
   ],
   "source": [
    "marco.dtypes   #vemos a ver"
   ]
  },
  {
   "cell_type": "code",
   "execution_count": 69,
   "id": "ba586f98",
   "metadata": {},
   "outputs": [
    {
     "data": {
      "text/plain": [
       "(50, 17)"
      ]
     },
     "execution_count": 69,
     "metadata": {},
     "output_type": "execute_result"
    }
   ],
   "source": [
    "marco.shape"
   ]
  },
  {
   "cell_type": "code",
   "execution_count": 88,
   "id": "8bb04a2c",
   "metadata": {},
   "outputs": [],
   "source": [
    "donde_cuales = marco[\"title\"], [\"location.latitude \"], [\"location.longitude\"]    #type() = tupla\n",
    "\n",
    "#este método no."
   ]
  },
  {
   "cell_type": "code",
   "execution_count": 102,
   "id": "9c0da910",
   "metadata": {},
   "outputs": [],
   "source": [
    "#marco_constr=marco_constr[\"nombre\"][\"latitude\"][\"long\"]"
   ]
  },
  {
   "cell_type": "code",
   "execution_count": 107,
   "id": "50f94090",
   "metadata": {},
   "outputs": [
    {
     "data": {
      "text/html": [
       "<div>\n",
       "<style scoped>\n",
       "    .dataframe tbody tr th:only-of-type {\n",
       "        vertical-align: middle;\n",
       "    }\n",
       "\n",
       "    .dataframe tbody tr th {\n",
       "        vertical-align: top;\n",
       "    }\n",
       "\n",
       "    .dataframe thead th {\n",
       "        text-align: right;\n",
       "    }\n",
       "</style>\n",
       "<table border=\"1\" class=\"dataframe\">\n",
       "  <thead>\n",
       "    <tr style=\"text-align: right;\">\n",
       "      <th></th>\n",
       "      <th>title</th>\n",
       "      <th>location.latitude</th>\n",
       "      <th>location.longitude</th>\n",
       "    </tr>\n",
       "  </thead>\n",
       "  <tbody>\n",
       "    <tr>\n",
       "      <th>0</th>\n",
       "      <td>Bibliometro</td>\n",
       "      <td>40.444447</td>\n",
       "      <td>-3.678140</td>\n",
       "    </tr>\n",
       "    <tr>\n",
       "      <th>1</th>\n",
       "      <td>Bibliored</td>\n",
       "      <td>40.444447</td>\n",
       "      <td>-3.678140</td>\n",
       "    </tr>\n",
       "    <tr>\n",
       "      <th>2</th>\n",
       "      <td>Biblioteca Pública Antonio Mingote (Latina)</td>\n",
       "      <td>40.379442</td>\n",
       "      <td>-3.769446</td>\n",
       "    </tr>\n",
       "    <tr>\n",
       "      <th>3</th>\n",
       "      <td>Biblioteca Pública Elena Fortún (Retiro)</td>\n",
       "      <td>40.403570</td>\n",
       "      <td>-3.672415</td>\n",
       "    </tr>\n",
       "    <tr>\n",
       "      <th>4</th>\n",
       "      <td>Biblioteca Pública Hortaleza</td>\n",
       "      <td>40.477232</td>\n",
       "      <td>-3.649625</td>\n",
       "    </tr>\n",
       "  </tbody>\n",
       "</table>\n",
       "</div>"
      ],
      "text/plain": [
       "                                         title  location.latitude  \\\n",
       "0                                  Bibliometro          40.444447   \n",
       "1                                    Bibliored          40.444447   \n",
       "2  Biblioteca Pública Antonio Mingote (Latina)          40.379442   \n",
       "3     Biblioteca Pública Elena Fortún (Retiro)          40.403570   \n",
       "4                 Biblioteca Pública Hortaleza          40.477232   \n",
       "\n",
       "   location.longitude  \n",
       "0           -3.678140  \n",
       "1           -3.678140  \n",
       "2           -3.769446  \n",
       "3           -3.672415  \n",
       "4           -3.649625  "
      ]
     },
     "execution_count": 107,
     "metadata": {},
     "output_type": "execute_result"
    }
   ],
   "source": [
    "loc_lat = marco[[\"title\", \"location.latitude\", \"location.longitude\"]]  #Selección de columnas dentro del data \n",
    "loc_lat.head()"
   ]
  },
  {
   "cell_type": "code",
   "execution_count": 109,
   "id": "0adeae74",
   "metadata": {},
   "outputs": [
    {
     "data": {
      "text/plain": [
       "(50, 3)"
      ]
     },
     "execution_count": 109,
     "metadata": {},
     "output_type": "execute_result"
    }
   ],
   "source": [
    "loc_lat.shape"
   ]
  },
  {
   "cell_type": "markdown",
   "id": "d323364d",
   "metadata": {},
   "source": [
    "# 🔥🔥🔥 CREAR EL CSV!!!! 🔥🔥🔥"
   ]
  },
  {
   "cell_type": "code",
   "execution_count": 122,
   "id": "cc32a546",
   "metadata": {},
   "outputs": [],
   "source": [
    "loc_lat.to_csv(\"../book_lovers/loc_lat.csv\")    #WORKS!!!"
   ]
  },
  {
   "cell_type": "code",
   "execution_count": 123,
   "id": "e043bfcb",
   "metadata": {},
   "outputs": [],
   "source": [
    "loc_lat.to_excel('../book_lovers/loc_lat.xls', index=True)  #Also works, just to try ^^"
   ]
  },
  {
   "cell_type": "markdown",
   "id": "475af412",
   "metadata": {},
   "source": [
    "# Folium? 📄"
   ]
  },
  {
   "cell_type": "code",
   "execution_count": 124,
   "id": "2836766a",
   "metadata": {},
   "outputs": [
    {
     "name": "stdout",
     "output_type": "stream",
     "text": [
      "Collecting folium\n",
      "  Downloading folium-0.12.1.post1-py2.py3-none-any.whl (95 kB)\n",
      "\u001b[K     |████████████████████████████████| 95 kB 2.2 MB/s eta 0:00:01\n",
      "\u001b[?25hRequirement already satisfied: jinja2>=2.9 in /Users/lucia/opt/anaconda3/lib/python3.9/site-packages (from folium) (2.11.3)\n",
      "Requirement already satisfied: numpy in /Users/lucia/opt/anaconda3/lib/python3.9/site-packages (from folium) (1.20.3)\n",
      "Requirement already satisfied: requests in /Users/lucia/opt/anaconda3/lib/python3.9/site-packages (from folium) (2.26.0)\n",
      "Collecting branca>=0.3.0\n",
      "  Downloading branca-0.5.0-py3-none-any.whl (24 kB)\n",
      "Requirement already satisfied: MarkupSafe>=0.23 in /Users/lucia/opt/anaconda3/lib/python3.9/site-packages (from jinja2>=2.9->folium) (1.1.1)\n",
      "Requirement already satisfied: certifi>=2017.4.17 in /Users/lucia/opt/anaconda3/lib/python3.9/site-packages (from requests->folium) (2021.10.8)\n",
      "Requirement already satisfied: urllib3<1.27,>=1.21.1 in /Users/lucia/opt/anaconda3/lib/python3.9/site-packages (from requests->folium) (1.26.7)\n",
      "Requirement already satisfied: idna<4,>=2.5 in /Users/lucia/opt/anaconda3/lib/python3.9/site-packages (from requests->folium) (3.2)\n",
      "Requirement already satisfied: charset-normalizer~=2.0.0 in /Users/lucia/opt/anaconda3/lib/python3.9/site-packages (from requests->folium) (2.0.4)\n",
      "Installing collected packages: branca, folium\n",
      "Successfully installed branca-0.5.0 folium-0.12.1.post1\n"
     ]
    }
   ],
   "source": [
    "!pip install folium"
   ]
  },
  {
   "cell_type": "code",
   "execution_count": 126,
   "id": "9af3b825",
   "metadata": {},
   "outputs": [],
   "source": [
    "import folium\n"
   ]
  },
  {
   "cell_type": "code",
   "execution_count": 127,
   "id": "92159bf9",
   "metadata": {},
   "outputs": [
    {
     "data": {
      "text/html": [
       "<div style=\"width:100%;\"><div style=\"position:relative;width:100%;height:0;padding-bottom:60%;\"><span style=\"color:#565656\">Make this Notebook Trusted to load map: File -> Trust Notebook</span><iframe srcdoc=\"&lt;!DOCTYPE html&gt;\n",
       "&lt;head&gt;    \n",
       "    &lt;meta http-equiv=&quot;content-type&quot; content=&quot;text/html; charset=UTF-8&quot; /&gt;\n",
       "    \n",
       "        &lt;script&gt;\n",
       "            L_NO_TOUCH = false;\n",
       "            L_DISABLE_3D = false;\n",
       "        &lt;/script&gt;\n",
       "    \n",
       "    &lt;style&gt;html, body {width: 100%;height: 100%;margin: 0;padding: 0;}&lt;/style&gt;\n",
       "    &lt;style&gt;#map {position:absolute;top:0;bottom:0;right:0;left:0;}&lt;/style&gt;\n",
       "    &lt;script src=&quot;https://cdn.jsdelivr.net/npm/leaflet@1.6.0/dist/leaflet.js&quot;&gt;&lt;/script&gt;\n",
       "    &lt;script src=&quot;https://code.jquery.com/jquery-1.12.4.min.js&quot;&gt;&lt;/script&gt;\n",
       "    &lt;script src=&quot;https://maxcdn.bootstrapcdn.com/bootstrap/3.2.0/js/bootstrap.min.js&quot;&gt;&lt;/script&gt;\n",
       "    &lt;script src=&quot;https://cdnjs.cloudflare.com/ajax/libs/Leaflet.awesome-markers/2.0.2/leaflet.awesome-markers.js&quot;&gt;&lt;/script&gt;\n",
       "    &lt;link rel=&quot;stylesheet&quot; href=&quot;https://cdn.jsdelivr.net/npm/leaflet@1.6.0/dist/leaflet.css&quot;/&gt;\n",
       "    &lt;link rel=&quot;stylesheet&quot; href=&quot;https://maxcdn.bootstrapcdn.com/bootstrap/3.2.0/css/bootstrap.min.css&quot;/&gt;\n",
       "    &lt;link rel=&quot;stylesheet&quot; href=&quot;https://maxcdn.bootstrapcdn.com/bootstrap/3.2.0/css/bootstrap-theme.min.css&quot;/&gt;\n",
       "    &lt;link rel=&quot;stylesheet&quot; href=&quot;https://maxcdn.bootstrapcdn.com/font-awesome/4.6.3/css/font-awesome.min.css&quot;/&gt;\n",
       "    &lt;link rel=&quot;stylesheet&quot; href=&quot;https://cdnjs.cloudflare.com/ajax/libs/Leaflet.awesome-markers/2.0.2/leaflet.awesome-markers.css&quot;/&gt;\n",
       "    &lt;link rel=&quot;stylesheet&quot; href=&quot;https://cdn.jsdelivr.net/gh/python-visualization/folium/folium/templates/leaflet.awesome.rotate.min.css&quot;/&gt;\n",
       "    \n",
       "            &lt;meta name=&quot;viewport&quot; content=&quot;width=device-width,\n",
       "                initial-scale=1.0, maximum-scale=1.0, user-scalable=no&quot; /&gt;\n",
       "            &lt;style&gt;\n",
       "                #map_e5cac687e79795f5fa4355fcf9ff19ae {\n",
       "                    position: relative;\n",
       "                    width: 100.0%;\n",
       "                    height: 100.0%;\n",
       "                    left: 0.0%;\n",
       "                    top: 0.0%;\n",
       "                }\n",
       "            &lt;/style&gt;\n",
       "        \n",
       "&lt;/head&gt;\n",
       "&lt;body&gt;    \n",
       "    \n",
       "            &lt;div class=&quot;folium-map&quot; id=&quot;map_e5cac687e79795f5fa4355fcf9ff19ae&quot; &gt;&lt;/div&gt;\n",
       "        \n",
       "&lt;/body&gt;\n",
       "&lt;script&gt;    \n",
       "    \n",
       "            var map_e5cac687e79795f5fa4355fcf9ff19ae = L.map(\n",
       "                &quot;map_e5cac687e79795f5fa4355fcf9ff19ae&quot;,\n",
       "                {\n",
       "                    center: [40.4167, -3.70325],\n",
       "                    crs: L.CRS.EPSG3857,\n",
       "                    zoom: 10,\n",
       "                    zoomControl: true,\n",
       "                    preferCanvas: false,\n",
       "                }\n",
       "            );\n",
       "\n",
       "            \n",
       "\n",
       "        \n",
       "    \n",
       "            var tile_layer_9de1d2d5aa56db065b37ad787d7c502e = L.tileLayer(\n",
       "                &quot;https://{s}.tile.openstreetmap.org/{z}/{x}/{y}.png&quot;,\n",
       "                {&quot;attribution&quot;: &quot;Data by \\u0026copy; \\u003ca href=\\&quot;http://openstreetmap.org\\&quot;\\u003eOpenStreetMap\\u003c/a\\u003e, under \\u003ca href=\\&quot;http://www.openstreetmap.org/copyright\\&quot;\\u003eODbL\\u003c/a\\u003e.&quot;, &quot;detectRetina&quot;: false, &quot;maxNativeZoom&quot;: 18, &quot;maxZoom&quot;: 18, &quot;minZoom&quot;: 0, &quot;noWrap&quot;: false, &quot;opacity&quot;: 1, &quot;subdomains&quot;: &quot;abc&quot;, &quot;tms&quot;: false}\n",
       "            ).addTo(map_e5cac687e79795f5fa4355fcf9ff19ae);\n",
       "        \n",
       "&lt;/script&gt;\" style=\"position:absolute;width:100%;height:100%;left:0;top:0;border:none !important;\" allowfullscreen webkitallowfullscreen mozallowfullscreen></iframe></div></div>"
      ],
      "text/plain": [
       "<folium.folium.Map at 0x7ff3bab8eee0>"
      ]
     },
     "execution_count": 127,
     "metadata": {},
     "output_type": "execute_result"
    }
   ],
   "source": [
    "import folium\n",
    "mapa = folium.Map(location=[40.4167,  -3.70325 ])    #coordenadas de Mandril 🐒\n",
    "mapa"
   ]
  },
  {
   "cell_type": "code",
   "execution_count": 138,
   "id": "6afb4be3",
   "metadata": {},
   "outputs": [
    {
     "data": {
      "text/plain": [
       "<folium.vector_layers.CircleMarker at 0x7ff3bb0a70d0>"
      ]
     },
     "execution_count": 138,
     "metadata": {},
     "output_type": "execute_result"
    }
   ],
   "source": [
    "#I want a circlecito\n",
    "folium.CircleMarker([40.4167,  -3.70325 ], # lat-lon del marcador\n",
    "                    radius=10,       # tamaño del marcador, radio del circulo\n",
    "                    icon=folium.Icon()).add_to(mapa)    #Yeees"
   ]
  },
  {
   "cell_type": "code",
   "execution_count": 140,
   "id": "1e4f055f",
   "metadata": {},
   "outputs": [],
   "source": [
    "import folium\n",
    "from folium import plugins    "
   ]
  },
  {
   "cell_type": "code",
   "execution_count": 141,
   "id": "2eca6390",
   "metadata": {},
   "outputs": [
    {
     "data": {
      "text/html": [
       "<div style=\"width:100%;\"><div style=\"position:relative;width:100%;height:0;padding-bottom:60%;\"><span style=\"color:#565656\">Make this Notebook Trusted to load map: File -> Trust Notebook</span><iframe srcdoc=\"&lt;!DOCTYPE html&gt;\n",
       "&lt;head&gt;    \n",
       "    &lt;meta http-equiv=&quot;content-type&quot; content=&quot;text/html; charset=UTF-8&quot; /&gt;\n",
       "    \n",
       "        &lt;script&gt;\n",
       "            L_NO_TOUCH = false;\n",
       "            L_DISABLE_3D = false;\n",
       "        &lt;/script&gt;\n",
       "    \n",
       "    &lt;style&gt;html, body {width: 100%;height: 100%;margin: 0;padding: 0;}&lt;/style&gt;\n",
       "    &lt;style&gt;#map {position:absolute;top:0;bottom:0;right:0;left:0;}&lt;/style&gt;\n",
       "    &lt;script src=&quot;https://cdn.jsdelivr.net/npm/leaflet@1.6.0/dist/leaflet.js&quot;&gt;&lt;/script&gt;\n",
       "    &lt;script src=&quot;https://code.jquery.com/jquery-1.12.4.min.js&quot;&gt;&lt;/script&gt;\n",
       "    &lt;script src=&quot;https://maxcdn.bootstrapcdn.com/bootstrap/3.2.0/js/bootstrap.min.js&quot;&gt;&lt;/script&gt;\n",
       "    &lt;script src=&quot;https://cdnjs.cloudflare.com/ajax/libs/Leaflet.awesome-markers/2.0.2/leaflet.awesome-markers.js&quot;&gt;&lt;/script&gt;\n",
       "    &lt;link rel=&quot;stylesheet&quot; href=&quot;https://cdn.jsdelivr.net/npm/leaflet@1.6.0/dist/leaflet.css&quot;/&gt;\n",
       "    &lt;link rel=&quot;stylesheet&quot; href=&quot;https://maxcdn.bootstrapcdn.com/bootstrap/3.2.0/css/bootstrap.min.css&quot;/&gt;\n",
       "    &lt;link rel=&quot;stylesheet&quot; href=&quot;https://maxcdn.bootstrapcdn.com/bootstrap/3.2.0/css/bootstrap-theme.min.css&quot;/&gt;\n",
       "    &lt;link rel=&quot;stylesheet&quot; href=&quot;https://maxcdn.bootstrapcdn.com/font-awesome/4.6.3/css/font-awesome.min.css&quot;/&gt;\n",
       "    &lt;link rel=&quot;stylesheet&quot; href=&quot;https://cdnjs.cloudflare.com/ajax/libs/Leaflet.awesome-markers/2.0.2/leaflet.awesome-markers.css&quot;/&gt;\n",
       "    &lt;link rel=&quot;stylesheet&quot; href=&quot;https://cdn.jsdelivr.net/gh/python-visualization/folium/folium/templates/leaflet.awesome.rotate.min.css&quot;/&gt;\n",
       "    \n",
       "            &lt;meta name=&quot;viewport&quot; content=&quot;width=device-width,\n",
       "                initial-scale=1.0, maximum-scale=1.0, user-scalable=no&quot; /&gt;\n",
       "            &lt;style&gt;\n",
       "                #map_e5cac687e79795f5fa4355fcf9ff19ae {\n",
       "                    position: relative;\n",
       "                    width: 100.0%;\n",
       "                    height: 100.0%;\n",
       "                    left: 0.0%;\n",
       "                    top: 0.0%;\n",
       "                }\n",
       "            &lt;/style&gt;\n",
       "        \n",
       "    &lt;script src=&quot;https://cdn.jsdelivr.net/gh/python-visualization/folium@master/folium/templates/leaflet_heat.min.js&quot;&gt;&lt;/script&gt;\n",
       "&lt;/head&gt;\n",
       "&lt;body&gt;    \n",
       "    \n",
       "            &lt;div class=&quot;folium-map&quot; id=&quot;map_e5cac687e79795f5fa4355fcf9ff19ae&quot; &gt;&lt;/div&gt;\n",
       "        \n",
       "&lt;/body&gt;\n",
       "&lt;script&gt;    \n",
       "    \n",
       "            var map_e5cac687e79795f5fa4355fcf9ff19ae = L.map(\n",
       "                &quot;map_e5cac687e79795f5fa4355fcf9ff19ae&quot;,\n",
       "                {\n",
       "                    center: [40.4167, -3.70325],\n",
       "                    crs: L.CRS.EPSG3857,\n",
       "                    zoom: 10,\n",
       "                    zoomControl: true,\n",
       "                    preferCanvas: false,\n",
       "                }\n",
       "            );\n",
       "\n",
       "            \n",
       "\n",
       "        \n",
       "    \n",
       "            var tile_layer_9de1d2d5aa56db065b37ad787d7c502e = L.tileLayer(\n",
       "                &quot;https://{s}.tile.openstreetmap.org/{z}/{x}/{y}.png&quot;,\n",
       "                {&quot;attribution&quot;: &quot;Data by \\u0026copy; \\u003ca href=\\&quot;http://openstreetmap.org\\&quot;\\u003eOpenStreetMap\\u003c/a\\u003e, under \\u003ca href=\\&quot;http://www.openstreetmap.org/copyright\\&quot;\\u003eODbL\\u003c/a\\u003e.&quot;, &quot;detectRetina&quot;: false, &quot;maxNativeZoom&quot;: 18, &quot;maxZoom&quot;: 18, &quot;minZoom&quot;: 0, &quot;noWrap&quot;: false, &quot;opacity&quot;: 1, &quot;subdomains&quot;: &quot;abc&quot;, &quot;tms&quot;: false}\n",
       "            ).addTo(map_e5cac687e79795f5fa4355fcf9ff19ae);\n",
       "        \n",
       "    \n",
       "            var circle_marker_0068ab71d00e383e55b4d37d57e093d7 = L.circleMarker(\n",
       "                [40.4167, -3.70325],\n",
       "                {&quot;bubblingMouseEvents&quot;: true, &quot;color&quot;: &quot;#3388ff&quot;, &quot;dashArray&quot;: null, &quot;dashOffset&quot;: null, &quot;fill&quot;: false, &quot;fillColor&quot;: &quot;#3388ff&quot;, &quot;fillOpacity&quot;: 0.2, &quot;fillRule&quot;: &quot;evenodd&quot;, &quot;lineCap&quot;: &quot;round&quot;, &quot;lineJoin&quot;: &quot;round&quot;, &quot;opacity&quot;: 1.0, &quot;radius&quot;: 10, &quot;stroke&quot;: true, &quot;weight&quot;: 3}\n",
       "            ).addTo(map_e5cac687e79795f5fa4355fcf9ff19ae);\n",
       "        \n",
       "    \n",
       "            var circle_marker_10a86105e65254560813931fc3d08e66 = L.circleMarker(\n",
       "                [40.4167, -3.70325],\n",
       "                {&quot;bubblingMouseEvents&quot;: true, &quot;color&quot;: &quot;#3388ff&quot;, &quot;dashArray&quot;: null, &quot;dashOffset&quot;: null, &quot;fill&quot;: false, &quot;fillColor&quot;: &quot;#3388ff&quot;, &quot;fillOpacity&quot;: 0.2, &quot;fillRule&quot;: &quot;evenodd&quot;, &quot;lineCap&quot;: &quot;round&quot;, &quot;lineJoin&quot;: &quot;round&quot;, &quot;opacity&quot;: 1.0, &quot;radius&quot;: 10, &quot;stroke&quot;: true, &quot;weight&quot;: 3}\n",
       "            ).addTo(map_e5cac687e79795f5fa4355fcf9ff19ae);\n",
       "        \n",
       "    \n",
       "            var circle_marker_38cd0005bd20b795a4db51614f6c26a5 = L.circleMarker(\n",
       "                [40.4167, -3.70325],\n",
       "                {&quot;bubblingMouseEvents&quot;: true, &quot;color&quot;: &quot;#3388ff&quot;, &quot;dashArray&quot;: null, &quot;dashOffset&quot;: null, &quot;fill&quot;: false, &quot;fillColor&quot;: &quot;#3388ff&quot;, &quot;fillOpacity&quot;: 0.2, &quot;fillRule&quot;: &quot;evenodd&quot;, &quot;lineCap&quot;: &quot;round&quot;, &quot;lineJoin&quot;: &quot;round&quot;, &quot;opacity&quot;: 1.0, &quot;radius&quot;: 10, &quot;stroke&quot;: true, &quot;weight&quot;: 3}\n",
       "            ).addTo(map_e5cac687e79795f5fa4355fcf9ff19ae);\n",
       "        \n",
       "    \n",
       "            var heat_map_3e01fd0db41266e37f2e40e51826307a = L.heatLayer(\n",
       "                [[40.44444653179131, -3.67813993012987], [40.44444653179131, -3.67813993012987], [40.37944226151668, -3.769445829090458], [40.40356992125351, -3.672414651864732], [40.47723185032398, -3.6496247031818596], [40.427942010682415, -3.7169600607379985], [40.38188182427109, -3.7106164073640233], [40.43539063992494, -3.6996132452669075], [40.38091437280583, -3.613674447421734], [40.373420234648606, -3.7480802097487653], [40.34952409541233, -3.710123586489839], [40.38449423079662, -3.6429247082087737], [40.404043531769375, -3.649450874958104], [40.39597072367931, -3.7562716852987847], [40.39786734087938, -3.720088245008897], [40.42738668300474, -3.7105999955473625], [40.44640229188281, -3.6117933204271098], [40.43644651057092, -3.6372924261150033], [40.43199309720514, -3.670929243543714], [40.467453379213175, -3.6846112774442705], [40.4166091081099, -3.6795930368034804], [40.39982891410407, -3.621281890570377], [40.44810636195716, -3.6762309620097398], [40.366768324753416, -3.701141063083806], [40.37790196240434, -3.6227296605039516], [40.46055947228695, -3.5937461811785347], [40.47571688103069, -3.64667257750353], [40.41410290844665, -3.7098591212735883], [40.433291625973624, -3.6105662311927453], [40.47860087334554, -3.7094408342979954], [40.38330593504341, -3.7420633861175796], [40.42342659084215, -3.651841641389484], [40.45749513485957, -3.710539712535917], [40.426642215368176, -3.699722994908341], [40.49041562546542, -3.655356751728003], [40.46903299144094, -3.6976620067964996], [40.40971737692924, -3.6529822109115133], [40.42941133441142, -3.6416899839787695], [40.393189968014696, -3.6554147649183943], [40.3735856436473, -3.6602546064905397], [40.40003652682007, -3.7074488154950584], [40.420231627534996, -3.6218113860909074], [40.3711623444796, -3.692742821990015], [40.395023959810636, -3.665554302127492], [40.405283650744316, -3.6086278232922804], [40.397074625115906, -3.7664885474841556], [40.40709558029403, -3.711046518464516], [40.48791129077104, -3.6984002338920092], [40.446595985821794, -3.7028897237155656], [40.43440083847048, -3.66897244650415]],\n",
       "                {&quot;blur&quot;: 15, &quot;maxZoom&quot;: 18, &quot;minOpacity&quot;: 0.5, &quot;radius&quot;: 15}\n",
       "            ).addTo(map_e5cac687e79795f5fa4355fcf9ff19ae);\n",
       "        \n",
       "&lt;/script&gt;\" style=\"position:absolute;width:100%;height:100%;left:0;top:0;border:none !important;\" allowfullscreen webkitallowfullscreen mozallowfullscreen></iframe></div></div>"
      ],
      "text/plain": [
       "<folium.folium.Map at 0x7ff3bab8eee0>"
      ]
     },
     "execution_count": 141,
     "metadata": {},
     "output_type": "execute_result"
    }
   ],
   "source": [
    "datos =loc_lat[['location.latitude', 'location.longitude']].values   #No me puedo creer lo que acabo de hacer\n",
    "\n",
    "mapa.add_child(plugins.HeatMap(datos, radius=15))\n",
    "\n",
    "mapa"
   ]
  },
  {
   "cell_type": "code",
   "execution_count": 310,
   "id": "23c91f0e",
   "metadata": {},
   "outputs": [],
   "source": [
    "#a este mapa le llamo heat_mad\n",
    "mapa.save(\"heat_mad.png\")   #se ha guardado en su sitio perfectísimamente"
   ]
  },
  {
   "cell_type": "code",
   "execution_count": null,
   "id": "78185df1",
   "metadata": {},
   "outputs": [],
   "source": []
  },
  {
   "cell_type": "code",
   "execution_count": null,
   "id": "5fe48d0a",
   "metadata": {},
   "outputs": [],
   "source": []
  },
  {
   "cell_type": "markdown",
   "id": "f3546176",
   "metadata": {},
   "source": [
    "# Vamos a hacer una prelimpieza preventiva 🤓"
   ]
  },
  {
   "cell_type": "code",
   "execution_count": 178,
   "id": "30b7b456",
   "metadata": {},
   "outputs": [
    {
     "data": {
      "text/html": [
       "<div>\n",
       "<style scoped>\n",
       "    .dataframe tbody tr th:only-of-type {\n",
       "        vertical-align: middle;\n",
       "    }\n",
       "\n",
       "    .dataframe tbody tr th {\n",
       "        vertical-align: top;\n",
       "    }\n",
       "\n",
       "    .dataframe thead th {\n",
       "        text-align: right;\n",
       "    }\n",
       "</style>\n",
       "<table border=\"1\" class=\"dataframe\">\n",
       "  <thead>\n",
       "    <tr style=\"text-align: right;\">\n",
       "      <th></th>\n",
       "      <th>MXASSETNUM,C,12</th>\n",
       "      <th>DESCRIPTIO,C,105</th>\n",
       "      <th>MINTDISTRI,C,20</th>\n",
       "      <th>NOMBRE_DIS,C,25</th>\n",
       "      <th>MINTBARRIO,C,10</th>\n",
       "      <th>NOMBRE_BAR,C,50</th>\n",
       "      <th>INSTALLDAT,D</th>\n",
       "      <th>MINTTIPOVI,C,15</th>\n",
       "      <th>MINTNOMBRE,C,254</th>\n",
       "      <th>MINTNUMERO,C,25</th>\n",
       "      <th>MINTNDP,C,20</th>\n",
       "      <th>MODELO,C,254</th>\n",
       "      <th>ESTADO,C,50</th>\n",
       "      <th>MINTHIERAR,C,254</th>\n",
       "    </tr>\n",
       "  </thead>\n",
       "  <tbody>\n",
       "    <tr>\n",
       "      <th>0</th>\n",
       "      <td>3532743</td>\n",
       "      <td>Movimiento de Dedos</td>\n",
       "      <td>6</td>\n",
       "      <td>TETUAN</td>\n",
       "      <td>61</td>\n",
       "      <td>BELLAS VISTAS</td>\n",
       "      <td>NaN</td>\n",
       "      <td>CALLE</td>\n",
       "      <td>TENERIFE</td>\n",
       "      <td>29</td>\n",
       "      <td>11027994.0</td>\n",
       "      <td>936 · ESCALERA DE DEDOS</td>\n",
       "      <td>ACTIVO</td>\n",
       "      <td>MOBILIARIO_Y_EQUIPAMIENTO \\ EJERCICIO_DEDOS_MA...</td>\n",
       "    </tr>\n",
       "    <tr>\n",
       "      <th>1</th>\n",
       "      <td>451355</td>\n",
       "      <td>Movimiento de dedos-M040405</td>\n",
       "      <td>4</td>\n",
       "      <td>SALAMANCA</td>\n",
       "      <td>43</td>\n",
       "      <td>FUENTE DEL BERRO</td>\n",
       "      <td>01/11/15</td>\n",
       "      <td>CALLE</td>\n",
       "      <td>MARQUES DE MONDEJAR</td>\n",
       "      <td>20</td>\n",
       "      <td>11016744.0</td>\n",
       "      <td>NaN</td>\n",
       "      <td>ACTIVO</td>\n",
       "      <td>MOBILIARIO_Y_EQUIPAMIENTO \\ EJERCICIO_DEDOS_MA...</td>\n",
       "    </tr>\n",
       "    <tr>\n",
       "      <th>2</th>\n",
       "      <td>5075420</td>\n",
       "      <td>BANCO PEDALES</td>\n",
       "      <td>19</td>\n",
       "      <td>VICALVARO</td>\n",
       "      <td>191</td>\n",
       "      <td>CASCO H.VICALVARO</td>\n",
       "      <td>29/04/19</td>\n",
       "      <td>AVENIDA</td>\n",
       "      <td>DAROCA</td>\n",
       "      <td>342</td>\n",
       "      <td>31014210.0</td>\n",
       "      <td>NaN</td>\n",
       "      <td>ACTIVO</td>\n",
       "      <td>MOBILIARIO_Y_EQUIPAMIENTO \\ BANCO_PEDALES_MAYORES</td>\n",
       "    </tr>\n",
       "    <tr>\n",
       "      <th>3</th>\n",
       "      <td>20246</td>\n",
       "      <td>Pedalier-21859</td>\n",
       "      <td>6</td>\n",
       "      <td>TETUAN</td>\n",
       "      <td>62</td>\n",
       "      <td>CUATRO CAMINOS</td>\n",
       "      <td>NaN</td>\n",
       "      <td>NaN</td>\n",
       "      <td>NaN</td>\n",
       "      <td>NaN</td>\n",
       "      <td>20011226.0</td>\n",
       "      <td>0067 · BANCO CON PEDALES</td>\n",
       "      <td>ACTIVO</td>\n",
       "      <td>MOBILIARIO_Y_EQUIPAMIENTO \\ BANCO_PEDALES_MAYORES</td>\n",
       "    </tr>\n",
       "    <tr>\n",
       "      <th>4</th>\n",
       "      <td>20285</td>\n",
       "      <td>Pedalier-21739</td>\n",
       "      <td>1</td>\n",
       "      <td>CENTRO</td>\n",
       "      <td>12</td>\n",
       "      <td>EMBAJADORES</td>\n",
       "      <td>NaN</td>\n",
       "      <td>NaN</td>\n",
       "      <td>NaN</td>\n",
       "      <td>NaN</td>\n",
       "      <td>31047998.0</td>\n",
       "      <td>0067 · BANCO CON PEDALES</td>\n",
       "      <td>ACTIVO</td>\n",
       "      <td>MOBILIARIO_Y_EQUIPAMIENTO \\ BANCO_PEDALES_MAYORES</td>\n",
       "    </tr>\n",
       "  </tbody>\n",
       "</table>\n",
       "</div>"
      ],
      "text/plain": [
       "   MXASSETNUM,C,12             DESCRIPTIO,C,105  MINTDISTRI,C,20  \\\n",
       "0          3532743          Movimiento de Dedos                6   \n",
       "1           451355  Movimiento de dedos-M040405                4   \n",
       "2          5075420                BANCO PEDALES               19   \n",
       "3            20246               Pedalier-21859                6   \n",
       "4            20285               Pedalier-21739                1   \n",
       "\n",
       "  NOMBRE_DIS,C,25  MINTBARRIO,C,10    NOMBRE_BAR,C,50 INSTALLDAT,D  \\\n",
       "0          TETUAN               61      BELLAS VISTAS          NaN   \n",
       "1       SALAMANCA               43   FUENTE DEL BERRO     01/11/15   \n",
       "2       VICALVARO              191  CASCO H.VICALVARO     29/04/19   \n",
       "3          TETUAN               62     CUATRO CAMINOS          NaN   \n",
       "4          CENTRO               12        EMBAJADORES          NaN   \n",
       "\n",
       "  MINTTIPOVI,C,15     MINTNOMBRE,C,254 MINTNUMERO,C,25  MINTNDP,C,20  \\\n",
       "0           CALLE             TENERIFE              29    11027994.0   \n",
       "1           CALLE  MARQUES DE MONDEJAR              20    11016744.0   \n",
       "2         AVENIDA               DAROCA             342    31014210.0   \n",
       "3             NaN                  NaN             NaN    20011226.0   \n",
       "4             NaN                  NaN             NaN    31047998.0   \n",
       "\n",
       "               MODELO,C,254 ESTADO,C,50  \\\n",
       "0   936 · ESCALERA DE DEDOS      ACTIVO   \n",
       "1                       NaN      ACTIVO   \n",
       "2                       NaN      ACTIVO   \n",
       "3  0067 · BANCO CON PEDALES      ACTIVO   \n",
       "4  0067 · BANCO CON PEDALES      ACTIVO   \n",
       "\n",
       "                                    MINTHIERAR,C,254  \n",
       "0  MOBILIARIO_Y_EQUIPAMIENTO \\ EJERCICIO_DEDOS_MA...  \n",
       "1  MOBILIARIO_Y_EQUIPAMIENTO \\ EJERCICIO_DEDOS_MA...  \n",
       "2  MOBILIARIO_Y_EQUIPAMIENTO \\ BANCO_PEDALES_MAYORES  \n",
       "3  MOBILIARIO_Y_EQUIPAMIENTO \\ BANCO_PEDALES_MAYORES  \n",
       "4  MOBILIARIO_Y_EQUIPAMIENTO \\ BANCO_PEDALES_MAYORES  "
      ]
     },
     "execution_count": 178,
     "metadata": {},
     "output_type": "execute_result"
    }
   ],
   "source": [
    "mayores = pd.read_csv('../book_lovers/infinite_datasets/300395-0-mobiliario-urbano-mayores.csv', sep= \";\", encoding='latin1')\n",
    "\n",
    "mayores.head()"
   ]
  },
  {
   "cell_type": "code",
   "execution_count": 183,
   "id": "ce0d5793",
   "metadata": {},
   "outputs": [],
   "source": [
    "#VAMOS CON TODO!!!\n",
    "\n",
    "bancos = pd.read_csv('../book_lovers/infinite_datasets/300095-5-mobiliario-bancos.csv', sep=';', encoding='latin-1')\n",
    "pilas = pd.read_csv('../book_lovers/infinite_datasets/300384-1-mupi-pilas.csv', sep=';', encoding='UTF8')\n",
    "aseos = pd.read_csv('../book_lovers/infinite_datasets/300103-2-Aseos-Publicos-Operativos.csv', sep=';', encoding='UTF8')\n",
    "juegos_infantiles = pd.read_csv('../book_lovers/infinite_datasets/300131-2-mobiliario-juegos-infantiles.csv', sep=';', encoding='latin-1')  \n",
    "mesas = pd.read_csv('../book_lovers/infinite_datasets/300217-3-mobiliario-mesas.csv', sep=';', encoding='latin-1')\n",
    "papeleras_perros = pd.read_csv('../book_lovers/infinite_datasets/300081-2-papeleras-bolsas-excrementos.csv', sep=';', encoding='latin-1')\n",
    "aparca_bicis = pd.read_csv('../book_lovers/infinite_datasets/205099-5-aparca-bicis.csv', sep=';', encoding='latin-1')\n",
    "papeleras = pd.read_csv('../book_lovers/infinite_datasets/300096-6-mobiliario-papeleras.csv', sep=';', encoding='latin-1')              \n",
    "juegos_deportivos = pd.read_csv('../book_lovers/infinite_datasets/300396-0-mobiliario-urbano-deportivos.csv', sep=';', encoding='latin-1')        \n",
    "contenedores_vidrio = pd.read_csv('../book_lovers/infinite_datasets/300232-1-contenedores-vidrio-publicidad.csv', sep=';', encoding='UTF8')\n"
   ]
  },
  {
   "cell_type": "code",
   "execution_count": 185,
   "id": "bc27fd46",
   "metadata": {},
   "outputs": [
    {
     "data": {
      "text/plain": [
       "0"
      ]
     },
     "execution_count": 185,
     "metadata": {},
     "output_type": "execute_result"
    }
   ],
   "source": [
    "# duplicados. quito el print PORQUE qué hartura de verdá\n",
    "\n",
    "\n",
    "mayores.duplicated().sum()\n",
    "bancos.duplicated().sum()\n",
    "mupis_pilas.duplicated().sum()\n",
    "aseos.duplicated().sum()\n",
    "juegos_infantiles.duplicated().sum()\n",
    "papeleras_perros.duplicated().sum()\n",
    "aparca_bicis.duplicated().sum()          \n",
    "juegos_deportivos.duplicated().sum()       \n",
    "contenedores_vidrio.duplicated().sum()"
   ]
  },
  {
   "cell_type": "code",
   "execution_count": 192,
   "id": "7960c6d5",
   "metadata": {},
   "outputs": [
    {
     "data": {
      "text/plain": [
       "0"
      ]
     },
     "execution_count": 192,
     "metadata": {},
     "output_type": "execute_result"
    }
   ],
   "source": [
    "dup_aseos = aseos.duplicated().sum()\n",
    "dup_aseos   #pos ole"
   ]
  },
  {
   "cell_type": "code",
   "execution_count": 190,
   "id": "91771629",
   "metadata": {},
   "outputs": [
    {
     "name": "stdout",
     "output_type": "stream",
     "text": [
      "<class 'pandas.core.frame.DataFrame'>\n",
      "Int64Index: 131 entries, 0 to 130\n",
      "Data columns (total 13 columns):\n",
      " #   Column                    Non-Null Count  Dtype  \n",
      "---  ------                    --------------  -----  \n",
      " 0   CODIGO ASEO               130 non-null    object \n",
      " 1   CODIGO J.M.               130 non-null    float64\n",
      " 2   DISTRITO                  130 non-null    object \n",
      " 3   VIAL                      130 non-null    object \n",
      " 4   DIRECCION                 130 non-null    object \n",
      " 5   NUMERO                    127 non-null    object \n",
      " 6   ANT/DES/ESQ.              24 non-null     object \n",
      " 7   COORD UTM ETRS89 X        130 non-null    float64\n",
      " 8   COORD UTM ETRS89 Y        130 non-null    float64\n",
      " 9   FECHA PUESTA EN SERVICIO  130 non-null    object \n",
      " 10  LATITUD                   130 non-null    float64\n",
      " 11  LONGITUD                  130 non-null    float64\n",
      " 12  NOMBRE                    130 non-null    object \n",
      "dtypes: float64(5), object(8)\n",
      "memory usage: 14.3+ KB\n"
     ]
    }
   ],
   "source": [
    "aseos = aseos.drop_duplicates()\n",
    "aseos.info()"
   ]
  },
  {
   "cell_type": "code",
   "execution_count": null,
   "id": "8b485841",
   "metadata": {},
   "outputs": [],
   "source": []
  },
  {
   "cell_type": "markdown",
   "id": "d38cf31a",
   "metadata": {},
   "source": [
    "# Ahora a elegir qué queremos 😌"
   ]
  },
  {
   "cell_type": "code",
   "execution_count": null,
   "id": "821f8967",
   "metadata": {},
   "outputs": [],
   "source": [
    "#Category, District, Latitude, Longitude, Status"
   ]
  },
  {
   "cell_type": "code",
   "execution_count": 200,
   "id": "71910e53",
   "metadata": {},
   "outputs": [],
   "source": [
    "#Hay que meterle la categoría\n",
    "\n",
    "#mayores.insert(0,'Category','JUEGOS PARA MAYORES')   #ya existe categoría en estas\n",
    "#bancos.insert(0,'Category','BANCO')\n",
    "#mupis_pilasbancos.insert(0,'Category','MUPIS PILAS')\n",
    "#aseos.insert(0,'Category','ASEOS')\n",
    "juegos_infantiles.insert(0,'Category','JUEGOS INFANTILES')\n",
    "papeleras_perros.insert(0,'Category','PAPELERAS PERROS')\n",
    "aparca_bicis.insert(0,'Category','APARCABICIS')          \n",
    "juegos_deportivos.insert(0,'Category','BANCOS DEPORTIVOS')      \n",
    "contenedores_vidrio.insert(0,'Category','CONTENEDORES VIDRIO')"
   ]
  },
  {
   "cell_type": "code",
   "execution_count": null,
   "id": "2c1e6fa4",
   "metadata": {},
   "outputs": [],
   "source": []
  },
  {
   "cell_type": "markdown",
   "id": "1b8c8394",
   "metadata": {},
   "source": [
    "# unificamos el dataset o es mejor en tableau?"
   ]
  },
  {
   "cell_type": "code",
   "execution_count": 206,
   "id": "f8c84a19",
   "metadata": {},
   "outputs": [],
   "source": [
    "dataset = pd.DataFrame(columns=['Category', 'Description', 'District', 'Neighborhood','Thoroughfare', 'Latitude',\n",
    "                                'Longitude', 'InstallationDate', 'Status', \n",
    "                                'Street', 'Number'])"
   ]
  },
  {
   "cell_type": "code",
   "execution_count": 209,
   "id": "89800120",
   "metadata": {},
   "outputs": [
    {
     "name": "stdout",
     "output_type": "stream",
     "text": [
      "<class 'pandas.core.frame.DataFrame'>\n",
      "Int64Index: 141382 entries, 0 to 130\n",
      "Data columns (total 43 columns):\n",
      " #   Column                    Non-Null Count   Dtype  \n",
      "---  ------                    --------------   -----  \n",
      " 0   Category                  140562 non-null  object \n",
      " 1   Description               0 non-null       object \n",
      " 2   District                  0 non-null       object \n",
      " 3   Neighborhood              0 non-null       object \n",
      " 4   Thoroughfare              0 non-null       object \n",
      " 5   Latitude                  0 non-null       object \n",
      " 6   Longitude                 0 non-null       object \n",
      " 7   InstallationDate          0 non-null       object \n",
      " 8   Status                    0 non-null       object \n",
      " 9   Street                    0 non-null       object \n",
      " 10  Number                    0 non-null       object \n",
      " 11  MXASSETNUM,C,12           140300 non-null  float64\n",
      " 12  DESCRIPTIO,C,105          139944 non-null  object \n",
      " 13  MINTDISTRI,C,20           140282 non-null  float64\n",
      " 14  NOMBRE_DIS,C,25           140282 non-null  object \n",
      " 15  MINTBARRIO,C,10           140282 non-null  float64\n",
      " 16  NOMBRE_BAR,C,50           140282 non-null  object \n",
      " 17  INSTALLDAT,D              46340 non-null   object \n",
      " 18  MINTTIPOVI,C,15           2300 non-null    object \n",
      " 19  MINTNOMBRE,C,254          131096 non-null  object \n",
      " 20  MINTNUMERO,C,25           129250 non-null  object \n",
      " 21  MINTNDP,C,20              129396 non-null  float64\n",
      " 22  MODELO,C,254              124646 non-null  object \n",
      " 23  ESTADO,C,50               140300 non-null  object \n",
      " 24  MINTHIERAR,C,254          2416 non-null    object \n",
      " 25  MINTTIPOVI,C,20           128750 non-null  object \n",
      " 26  CODIGO SOPORTE            800 non-null     object \n",
      " 27  TIPO SOPORTE              800 non-null     object \n",
      " 28  CODIGO J.M.               1060 non-null    float64\n",
      " 29  DISTRITO                  1060 non-null    object \n",
      " 30  VIAL                      1060 non-null    object \n",
      " 31  DIRECCION                 1060 non-null    object \n",
      " 32  NUMERO                    1054 non-null    object \n",
      " 33  COORD X UTM ETRS89        800 non-null     float64\n",
      " 34  COORD Y UTM ETRS89        800 non-null     float64\n",
      " 35  FECHA PUESTA EN SERVICIO  1060 non-null    object \n",
      " 36  LONGITUD                  1060 non-null    float64\n",
      " 37  LATITUD                   1060 non-null    float64\n",
      " 38  NOMBRE                    1060 non-null    object \n",
      " 39  CODIGO ASEO               260 non-null     object \n",
      " 40  ANT/DES/ESQ.              48 non-null      object \n",
      " 41  COORD UTM ETRS89 X        260 non-null     float64\n",
      " 42  COORD UTM ETRS89 Y        260 non-null     float64\n",
      "dtypes: float64(11), object(32)\n",
      "memory usage: 47.5+ MB\n"
     ]
    }
   ],
   "source": [
    "dataset = dataset.append(mayores).append(bancos).append(mupis_pilas).append(aseos)\n",
    "dataset.info()\n"
   ]
  },
  {
   "cell_type": "code",
   "execution_count": 213,
   "id": "f60e3350",
   "metadata": {},
   "outputs": [
    {
     "name": "stdout",
     "output_type": "stream",
     "text": [
      "<class 'pandas.core.frame.DataFrame'>\n",
      "Int64Index: 141382 entries, 0 to 130\n",
      "Data columns (total 43 columns):\n",
      " #   Column                    Non-Null Count   Dtype  \n",
      "---  ------                    --------------   -----  \n",
      " 0   Category                  140562 non-null  object \n",
      " 1   Description               0 non-null       object \n",
      " 2   District                  0 non-null       object \n",
      " 3   Neighborhood              0 non-null       object \n",
      " 4   Thoroughfare              0 non-null       object \n",
      " 5   Latitude                  0 non-null       object \n",
      " 6   Longitude                 0 non-null       object \n",
      " 7   InstallationDate          0 non-null       object \n",
      " 8   Status                    0 non-null       object \n",
      " 9   Street                    0 non-null       object \n",
      " 10  Number                    0 non-null       object \n",
      " 11  MXASSETNUM,C,12           140300 non-null  float64\n",
      " 12  DESCRIPTIO,C,105          139944 non-null  object \n",
      " 13  MINTDISTRI,C,20           140282 non-null  float64\n",
      " 14  NOMBRE_DIS,C,25           140282 non-null  object \n",
      " 15  MINTBARRIO,C,10           140282 non-null  float64\n",
      " 16  NOMBRE_BAR,C,50           140282 non-null  object \n",
      " 17  INSTALLDAT,D              46340 non-null   object \n",
      " 18  MINTTIPOVI,C,15           2300 non-null    object \n",
      " 19  MINTNOMBRE,C,254          131096 non-null  object \n",
      " 20  MINTNUMERO,C,25           129250 non-null  object \n",
      " 21  MINTNDP,C,20              129396 non-null  float64\n",
      " 22  MODELO,C,254              124646 non-null  object \n",
      " 23  ESTADO,C,50               140300 non-null  object \n",
      " 24  MINTHIERAR,C,254          2416 non-null    object \n",
      " 25  MINTTIPOVI,C,20           128750 non-null  object \n",
      " 26  CODIGO SOPORTE            800 non-null     object \n",
      " 27  TIPO SOPORTE              800 non-null     object \n",
      " 28  CODIGO J.M.               1060 non-null    float64\n",
      " 29  DISTRITO                  1060 non-null    object \n",
      " 30  VIAL                      1060 non-null    object \n",
      " 31  DIRECCION                 1060 non-null    object \n",
      " 32  NUMERO                    1054 non-null    object \n",
      " 33  COORD X UTM ETRS89        800 non-null     float64\n",
      " 34  COORD Y UTM ETRS89        800 non-null     float64\n",
      " 35  FECHA PUESTA EN SERVICIO  1060 non-null    object \n",
      " 36  LONGITUD                  1060 non-null    float64\n",
      " 37  LATITUD                   1060 non-null    float64\n",
      " 38  NOMBRE                    1060 non-null    object \n",
      " 39  CODIGO ASEO               260 non-null     object \n",
      " 40  ANT/DES/ESQ.              48 non-null      object \n",
      " 41  COORD UTM ETRS89 X        260 non-null     float64\n",
      " 42  COORD UTM ETRS89 Y        260 non-null     float64\n",
      "dtypes: float64(11), object(32)\n",
      "memory usage: 47.5+ MB\n"
     ]
    }
   ],
   "source": [
    "dataset.append(juegos_deportivos).append(contenedores_vidrio).append(juegos_infantiles).append(mesas).append(papeleras_perros).append(aparca_bicis).append(papeleras)  #mass\n",
    "\n",
    "dataset.info()\n"
   ]
  },
  {
   "cell_type": "code",
   "execution_count": 283,
   "id": "f8e61991",
   "metadata": {},
   "outputs": [],
   "source": [
    "dataset['DISTRITO'].replace(['FUENCARRAL - EL PARDO'], 'FUENCARRAL-EL PARDO', inplace=True)\n",
    "dataset['DISTRITO'].replace(['VICALVARO'], 'VICÁLVARO', inplace=True)\n",
    "dataset['DISTRITO'].replace(['CHAMARTIN'], 'CHAMARTÍN', inplace=True)\n",
    "dataset['DISTRITO'].replace(['TETUAN'], 'TETUÁN', inplace=True)\n",
    "dataset['DISTRITO'].replace(['CHAMBERI'], 'CHAMBERÍ', inplace=True)\n",
    "dataset['DISTRITO'].replace(['VILLA DE VALLECAS   '], 'VILLA DE VALLECAS', inplace=True)\n",
    "dataset['DISTRITO'].replace(['SAN BLAS-CANILLEJAS '], 'SAN BLAS-CANILLEJAS', inplace=True)\n",
    "dataset['DISTRITO'].replace(['SAN BLAS'], 'SAN BLAS-CANILLEJAS', inplace=True)\n",
    "dataset['DISTRITO'].replace(['MONCLOA-ARAVACA     '], 'MONCLOA-ARAVACA', inplace=True)\n",
    "dataset['DISTRITO'].replace(['MONCLOA - ARAVACA'], 'MONCLOA-ARAVACA', inplace=True)\n",
    "dataset['DISTRITO'].replace(['SALAMANCA           '], 'SALAMANCA', inplace=True)"
   ]
  },
  {
   "cell_type": "code",
   "execution_count": 284,
   "id": "494c5b2a",
   "metadata": {},
   "outputs": [
    {
     "data": {
      "text/plain": [
       "SALAMANCA              106\n",
       "CHAMBERÍ                94\n",
       "CENTRO                  78\n",
       "CHAMARTÍN               70\n",
       "ARGANZUELA              64\n",
       "CARABANCHEL             56\n",
       "PUENTE DE VALLECAS      54\n",
       "MONCLOA-ARAVACA         52\n",
       "LATINA                  50\n",
       "FUENCARRAL-EL PARDO     48\n",
       "TETUÁN                  46\n",
       "CIUDAD LINEAL           46\n",
       "RETIRO                  46\n",
       "MORATALAZ               40\n",
       "HORTALEZA               34\n",
       "SAN BLAS-CANILLEJAS     34\n",
       "USERA                   30\n",
       "VICÁLVARO               30\n",
       "VILLAVERDE              30\n",
       "VILLA DE VALLECAS       28\n",
       "BARAJAS                 24\n",
       "Name: DISTRITO, dtype: int64"
      ]
     },
     "execution_count": 284,
     "metadata": {},
     "output_type": "execute_result"
    }
   ],
   "source": [
    "distrito = dataset['DISTRITO']   #No da error pero no me dejha ver lo que quiero así que palante 🦈\n",
    "cuak = distrito.value_counts()   #HA funcionado cuando le he puesto bien el valor, que no es que está en ing y mins, sino el otro\n",
    "cuak"
   ]
  },
  {
   "cell_type": "code",
   "execution_count": null,
   "id": "9e1feb9e",
   "metadata": {},
   "outputs": [],
   "source": []
  },
  {
   "cell_type": "code",
   "execution_count": null,
   "id": "ee560f51",
   "metadata": {},
   "outputs": [],
   "source": []
  },
  {
   "cell_type": "markdown",
   "id": "e6ae03da",
   "metadata": {},
   "source": [
    "# Vamos a obtener el ds sexy"
   ]
  },
  {
   "cell_type": "markdown",
   "id": "39bb23ad",
   "metadata": {},
   "source": [
    "## no funciona, reculamos y montamos el otro ds para tableau"
   ]
  },
  {
   "cell_type": "code",
   "execution_count": 286,
   "id": "709139cf",
   "metadata": {},
   "outputs": [
    {
     "data": {
      "text/html": [
       "<div>\n",
       "<style scoped>\n",
       "    .dataframe tbody tr th:only-of-type {\n",
       "        vertical-align: middle;\n",
       "    }\n",
       "\n",
       "    .dataframe tbody tr th {\n",
       "        vertical-align: top;\n",
       "    }\n",
       "\n",
       "    .dataframe thead th {\n",
       "        text-align: right;\n",
       "    }\n",
       "</style>\n",
       "<table border=\"1\" class=\"dataframe\">\n",
       "  <thead>\n",
       "    <tr style=\"text-align: right;\">\n",
       "      <th></th>\n",
       "      <th>Category</th>\n",
       "      <th>DISTRITO</th>\n",
       "      <th>LONGITUD</th>\n",
       "      <th>LATITUD</th>\n",
       "    </tr>\n",
       "  </thead>\n",
       "  <tbody>\n",
       "    <tr>\n",
       "      <th>0</th>\n",
       "      <td>JUEGOS PARA MAYORES</td>\n",
       "      <td>NaN</td>\n",
       "      <td>NaN</td>\n",
       "      <td>NaN</td>\n",
       "    </tr>\n",
       "    <tr>\n",
       "      <th>1</th>\n",
       "      <td>JUEGOS PARA MAYORES</td>\n",
       "      <td>NaN</td>\n",
       "      <td>NaN</td>\n",
       "      <td>NaN</td>\n",
       "    </tr>\n",
       "    <tr>\n",
       "      <th>2</th>\n",
       "      <td>JUEGOS PARA MAYORES</td>\n",
       "      <td>NaN</td>\n",
       "      <td>NaN</td>\n",
       "      <td>NaN</td>\n",
       "    </tr>\n",
       "    <tr>\n",
       "      <th>3</th>\n",
       "      <td>JUEGOS PARA MAYORES</td>\n",
       "      <td>NaN</td>\n",
       "      <td>NaN</td>\n",
       "      <td>NaN</td>\n",
       "    </tr>\n",
       "    <tr>\n",
       "      <th>4</th>\n",
       "      <td>JUEGOS PARA MAYORES</td>\n",
       "      <td>NaN</td>\n",
       "      <td>NaN</td>\n",
       "      <td>NaN</td>\n",
       "    </tr>\n",
       "    <tr>\n",
       "      <th>...</th>\n",
       "      <td>...</td>\n",
       "      <td>...</td>\n",
       "      <td>...</td>\n",
       "      <td>...</td>\n",
       "    </tr>\n",
       "    <tr>\n",
       "      <th>126</th>\n",
       "      <td>ASEOS</td>\n",
       "      <td>SALAMANCA</td>\n",
       "      <td>-3.660857</td>\n",
       "      <td>40.438736</td>\n",
       "    </tr>\n",
       "    <tr>\n",
       "      <th>127</th>\n",
       "      <td>ASEOS</td>\n",
       "      <td>CHAMARTÍN</td>\n",
       "      <td>-3.690174</td>\n",
       "      <td>40.452677</td>\n",
       "    </tr>\n",
       "    <tr>\n",
       "      <th>128</th>\n",
       "      <td>ASEOS</td>\n",
       "      <td>MONCLOA-ARAVACA</td>\n",
       "      <td>-3.784945</td>\n",
       "      <td>40.448975</td>\n",
       "    </tr>\n",
       "    <tr>\n",
       "      <th>129</th>\n",
       "      <td>ASEOS</td>\n",
       "      <td>CIUDAD LINEAL</td>\n",
       "      <td>-3.640108</td>\n",
       "      <td>40.430306</td>\n",
       "    </tr>\n",
       "    <tr>\n",
       "      <th>130</th>\n",
       "      <td>ASEOS</td>\n",
       "      <td>NaN</td>\n",
       "      <td>NaN</td>\n",
       "      <td>NaN</td>\n",
       "    </tr>\n",
       "  </tbody>\n",
       "</table>\n",
       "<p>141382 rows × 4 columns</p>\n",
       "</div>"
      ],
      "text/plain": [
       "                Category         DISTRITO  LONGITUD    LATITUD\n",
       "0    JUEGOS PARA MAYORES              NaN       NaN        NaN\n",
       "1    JUEGOS PARA MAYORES              NaN       NaN        NaN\n",
       "2    JUEGOS PARA MAYORES              NaN       NaN        NaN\n",
       "3    JUEGOS PARA MAYORES              NaN       NaN        NaN\n",
       "4    JUEGOS PARA MAYORES              NaN       NaN        NaN\n",
       "..                   ...              ...       ...        ...\n",
       "126                ASEOS        SALAMANCA -3.660857  40.438736\n",
       "127                ASEOS        CHAMARTÍN -3.690174  40.452677\n",
       "128                ASEOS  MONCLOA-ARAVACA -3.784945  40.448975\n",
       "129                ASEOS    CIUDAD LINEAL -3.640108  40.430306\n",
       "130                ASEOS              NaN       NaN        NaN\n",
       "\n",
       "[141382 rows x 4 columns]"
      ]
     },
     "execution_count": 286,
     "metadata": {},
     "output_type": "execute_result"
    }
   ],
   "source": [
    "cositas = dataset[['Category', 'DISTRITO', 'LONGITUD', 'LATITUD']]\n",
    "cositas"
   ]
  },
  {
   "cell_type": "code",
   "execution_count": 288,
   "id": "201d2c45",
   "metadata": {},
   "outputs": [
    {
     "data": {
      "text/plain": [
       "SALAMANCA              106\n",
       "CHAMBERÍ                94\n",
       "CENTRO                  78\n",
       "CHAMARTÍN               70\n",
       "ARGANZUELA              64\n",
       "CARABANCHEL             56\n",
       "PUENTE DE VALLECAS      54\n",
       "MONCLOA-ARAVACA         52\n",
       "LATINA                  50\n",
       "FUENCARRAL-EL PARDO     48\n",
       "TETUÁN                  46\n",
       "CIUDAD LINEAL           46\n",
       "RETIRO                  46\n",
       "MORATALAZ               40\n",
       "HORTALEZA               34\n",
       "SAN BLAS-CANILLEJAS     34\n",
       "USERA                   30\n",
       "VICÁLVARO               30\n",
       "VILLAVERDE              30\n",
       "VILLA DE VALLECAS       28\n",
       "BARAJAS                 24\n",
       "Name: DISTRITO, dtype: int64"
      ]
     },
     "execution_count": 288,
     "metadata": {},
     "output_type": "execute_result"
    }
   ],
   "source": [
    "cositas.DISTRITO.value_counts()   # tendrá que valer"
   ]
  },
  {
   "cell_type": "code",
   "execution_count": 307,
   "id": "1dc67f25",
   "metadata": {},
   "outputs": [],
   "source": [
    "dropeado = cositas.dropna(subset=['DISTRITO', 'LONGITUD', 'LATITUD'], inplace = True)\n"
   ]
  },
  {
   "cell_type": "code",
   "execution_count": 297,
   "id": "48488fde",
   "metadata": {},
   "outputs": [
    {
     "name": "stdout",
     "output_type": "stream",
     "text": [
      "<class 'pandas.core.frame.DataFrame'>\n",
      "Int64Index: 1060 entries, 0 to 129\n",
      "Data columns (total 4 columns):\n",
      " #   Column    Non-Null Count  Dtype  \n",
      "---  ------    --------------  -----  \n",
      " 0   Category  260 non-null    object \n",
      " 1   DISTRITO  1060 non-null   object \n",
      " 2   LONGITUD  1060 non-null   float64\n",
      " 3   LATITUD   1060 non-null   float64\n",
      "dtypes: float64(2), object(2)\n",
      "memory usage: 41.4+ KB\n"
     ]
    }
   ],
   "source": [
    "cositas.info()   #hay una barbaridad en lo que he metido de categoría, a ver si la quito qué"
   ]
  },
  {
   "cell_type": "code",
   "execution_count": 301,
   "id": "96699b2f",
   "metadata": {},
   "outputs": [
    {
     "data": {
      "text/plain": [
       "(1060, 4)"
      ]
     },
     "execution_count": 301,
     "metadata": {},
     "output_type": "execute_result"
    }
   ],
   "source": [
    "cositas.shape  #Con esto va"
   ]
  },
  {
   "cell_type": "code",
   "execution_count": 308,
   "id": "2e5229f7",
   "metadata": {},
   "outputs": [
    {
     "data": {
      "text/html": [
       "<div>\n",
       "<style scoped>\n",
       "    .dataframe tbody tr th:only-of-type {\n",
       "        vertical-align: middle;\n",
       "    }\n",
       "\n",
       "    .dataframe tbody tr th {\n",
       "        vertical-align: top;\n",
       "    }\n",
       "\n",
       "    .dataframe thead th {\n",
       "        text-align: right;\n",
       "    }\n",
       "</style>\n",
       "<table border=\"1\" class=\"dataframe\">\n",
       "  <thead>\n",
       "    <tr style=\"text-align: right;\">\n",
       "      <th></th>\n",
       "      <th>Category</th>\n",
       "      <th>DISTRITO</th>\n",
       "      <th>LONGITUD</th>\n",
       "      <th>LATITUD</th>\n",
       "    </tr>\n",
       "  </thead>\n",
       "  <tbody>\n",
       "    <tr>\n",
       "      <th>0</th>\n",
       "      <td>NaN</td>\n",
       "      <td>CENTRO</td>\n",
       "      <td>-3.711741</td>\n",
       "      <td>40.407180</td>\n",
       "    </tr>\n",
       "    <tr>\n",
       "      <th>1</th>\n",
       "      <td>NaN</td>\n",
       "      <td>CENTRO</td>\n",
       "      <td>-3.706336</td>\n",
       "      <td>40.429529</td>\n",
       "    </tr>\n",
       "    <tr>\n",
       "      <th>2</th>\n",
       "      <td>NaN</td>\n",
       "      <td>CENTRO</td>\n",
       "      <td>-3.699487</td>\n",
       "      <td>40.406013</td>\n",
       "    </tr>\n",
       "    <tr>\n",
       "      <th>3</th>\n",
       "      <td>NaN</td>\n",
       "      <td>ARGANZUELA</td>\n",
       "      <td>-3.696047</td>\n",
       "      <td>40.400976</td>\n",
       "    </tr>\n",
       "    <tr>\n",
       "      <th>4</th>\n",
       "      <td>NaN</td>\n",
       "      <td>ARGANZUELA</td>\n",
       "      <td>-3.698847</td>\n",
       "      <td>40.400655</td>\n",
       "    </tr>\n",
       "  </tbody>\n",
       "</table>\n",
       "</div>"
      ],
      "text/plain": [
       "  Category    DISTRITO  LONGITUD    LATITUD\n",
       "0      NaN      CENTRO -3.711741  40.407180\n",
       "1      NaN      CENTRO -3.706336  40.429529\n",
       "2      NaN      CENTRO -3.699487  40.406013\n",
       "3      NaN  ARGANZUELA -3.696047  40.400976\n",
       "4      NaN  ARGANZUELA -3.698847  40.400655"
      ]
     },
     "execution_count": 308,
     "metadata": {},
     "output_type": "execute_result"
    }
   ],
   "source": [
    "cositas.head()"
   ]
  },
  {
   "cell_type": "code",
   "execution_count": null,
   "id": "e76bc6ba",
   "metadata": {},
   "outputs": [],
   "source": []
  },
  {
   "cell_type": "code",
   "execution_count": 309,
   "id": "26e8d7ec",
   "metadata": {},
   "outputs": [],
   "source": [
    "cositas.to_excel('../book_lovers/mobiliario_urbano.xls', index=True) #nombre decente check"
   ]
  },
  {
   "cell_type": "code",
   "execution_count": null,
   "id": "76250949",
   "metadata": {},
   "outputs": [],
   "source": []
  },
  {
   "cell_type": "code",
   "execution_count": null,
   "id": "2dde5c7f",
   "metadata": {},
   "outputs": [],
   "source": []
  }
 ],
 "metadata": {
  "kernelspec": {
   "display_name": "Python 3 (ipykernel)",
   "language": "python",
   "name": "python3"
  },
  "language_info": {
   "codemirror_mode": {
    "name": "ipython",
    "version": 3
   },
   "file_extension": ".py",
   "mimetype": "text/x-python",
   "name": "python",
   "nbconvert_exporter": "python",
   "pygments_lexer": "ipython3",
   "version": "3.9.7"
  }
 },
 "nbformat": 4,
 "nbformat_minor": 5
}
