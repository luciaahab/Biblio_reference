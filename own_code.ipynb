{
 "cells": [
  {
   "cell_type": "markdown",
   "id": "0c1f6315",
   "metadata": {},
   "source": [
    "# Book Lovers ❤️"
   ]
  },
  {
   "cell_type": "markdown",
   "id": "b10ccd47",
   "metadata": {},
   "source": [
    "### 📚 Because reading is sexy 📚"
   ]
  },
  {
   "cell_type": "markdown",
   "id": "1fffe2ed",
   "metadata": {},
   "source": [
    "(Explicar un poco) "
   ]
  },
  {
   "cell_type": "markdown",
   "id": "fc599dae",
   "metadata": {},
   "source": [
    "## Extraer los datos\n"
   ]
  },
  {
   "cell_type": "markdown",
   "id": "0952e5ef",
   "metadata": {},
   "source": [
    "Se va a trabajar con la API de Goodreaders\n",
    "Pasos: \n",
    "    - Conseguir token y etc"
   ]
  },
  {
   "cell_type": "code",
   "execution_count": 2,
   "id": "89db699a",
   "metadata": {},
   "outputs": [],
   "source": [
    "import os\n",
    "import json\n",
    "import requests as req    #Se importa el request, ya está pipinstaladísimo\n",
    "import pandas as pd\n",
    "\n",
    "#No ha funcionado porque parece ser que Amazon ha comprado la página y se ha cargado la API 🤡\n",
    "#Hay que cambiar la idea. Nueva API de las bibliotecas de Madrid"
   ]
  },
  {
   "cell_type": "code",
   "execution_count": 3,
   "id": "e015751f",
   "metadata": {},
   "outputs": [],
   "source": [
    "url='https://datos.madrid.es/egob/catalogo/201747-0-bibliobuses-bibliotecas.json'   #La API es del AYTO de Madrid"
   ]
  },
  {
   "cell_type": "code",
   "execution_count": 4,
   "id": "26a18298",
   "metadata": {},
   "outputs": [],
   "source": [
    "resp = req.get(url)     #get para traer la url\n"
   ]
  },
  {
   "cell_type": "code",
   "execution_count": 5,
   "id": "9ad8c0c8",
   "metadata": {},
   "outputs": [
    {
     "data": {
      "text/plain": [
       "'\\n{\\n\\t\"@context\": {\\n\\t\\t\"c\": \"http://www.w3.org/2002/12/cal#\",\\n\\t\\t\"dcterms\": \"http://purl.org/dc/terms/\",\\n\\t\\t\"geo\": \"http://www.w3.org/2003/01/geo/wgs84_pos#\",\\n\\t\\t\"loc\": \"http://purl.org/ctic/infraestructuras/localizacion#\",\\n\\t\\t\"org\": \"http://purl.org/ctic/infraestructuras/organizacion#\",\\n\\t\\t\"vcard\": \"http://www.w3.org/2006/vcard/ns#\",\\n\\t\\t\"schema\": \"https://schema.org/\",\\n\\t\\t\"title\": \"vcard:fn\",\\n\\t\\t\"id\": \"dcterms:identifier\",\\n\\t\\t\"relation\": \"dcterms:relation\",\\n\\t\\t\"references\": \"dcterms:references\",\\n\\t\\t\"address\"'"
      ]
     },
     "execution_count": 5,
     "metadata": {},
     "output_type": "execute_result"
    }
   ],
   "source": [
    "#checking\n",
    "req.get(url).text[:500]   #500 primeros caracteres.  "
   ]
  },
  {
   "cell_type": "code",
   "execution_count": 6,
   "id": "5a523315",
   "metadata": {},
   "outputs": [],
   "source": [
    "df = resp.json()  #Con esta nueva API Sí que funciona. "
   ]
  },
  {
   "cell_type": "code",
   "execution_count": 7,
   "id": "5fd49d45",
   "metadata": {},
   "outputs": [
    {
     "data": {
      "text/plain": [
       "dict_keys(['@context', '@graph'])"
      ]
     },
     "execution_count": 7,
     "metadata": {},
     "output_type": "execute_result"
    }
   ],
   "source": [
    "#data = pd.DataFrame(df)\n",
    "#data.head(10)\n",
    "resp.json().keys()    #solo tiene esta mierda de keys"
   ]
  },
  {
   "cell_type": "code",
   "execution_count": 8,
   "id": "4656f878",
   "metadata": {},
   "outputs": [],
   "source": [
    "#para sacar el diccionario del diccionario\n"
   ]
  },
  {
   "cell_type": "code",
   "execution_count": 10,
   "id": "01b3a602",
   "metadata": {},
   "outputs": [
    {
     "data": {
      "text/plain": [
       "{'c': 'http://www.w3.org/2002/12/cal#',\n",
       " 'dcterms': 'http://purl.org/dc/terms/',\n",
       " 'geo': 'http://www.w3.org/2003/01/geo/wgs84_pos#',\n",
       " 'loc': 'http://purl.org/ctic/infraestructuras/localizacion#',\n",
       " 'org': 'http://purl.org/ctic/infraestructuras/organizacion#',\n",
       " 'vcard': 'http://www.w3.org/2006/vcard/ns#',\n",
       " 'schema': 'https://schema.org/',\n",
       " 'title': 'vcard:fn',\n",
       " 'id': 'dcterms:identifier',\n",
       " 'relation': 'dcterms:relation',\n",
       " 'references': 'dcterms:references',\n",
       " 'address': 'vcard:adr',\n",
       " 'area': 'loc:barrio',\n",
       " 'district': 'loc:distrito',\n",
       " 'locality': 'vcard:locality',\n",
       " 'postal-code': 'vcard:postal-code',\n",
       " 'street-address': 'vcard:street-address',\n",
       " 'location': 'vcard:geo',\n",
       " 'latitude': 'geo:lat',\n",
       " 'longitude': 'geo:long',\n",
       " 'organization': 'vcard:org',\n",
       " 'organization-desc': 'dcterms:description',\n",
       " 'accesibility': 'org:accesibilidad',\n",
       " 'services': 'org:servicios',\n",
       " 'schedule': 'org:horario',\n",
       " 'organization-name': 'vcard:organization-name',\n",
       " 'description': 'c:summary',\n",
       " 'link': 'c:url',\n",
       " 'uid': 'c:uid',\n",
       " 'dtstart': 'c:dtstart',\n",
       " 'dtend': 'c:dtend',\n",
       " 'time': 'c:time',\n",
       " 'excluded-days': 'c:exdate',\n",
       " 'event-location': 'c:location',\n",
       " 'free': 'schema:free',\n",
       " 'price': 'c:resource',\n",
       " 'recurrence': 'c:rrule',\n",
       " 'days': 'c:byday',\n",
       " 'frequency': 'c:freq',\n",
       " 'interval': 'c:interval',\n",
       " 'audience': 'dc:audience'}"
      ]
     },
     "execution_count": 10,
     "metadata": {},
     "output_type": "execute_result"
    }
   ],
   "source": [
    "resp.json()['@context']    #acceder al diccionario dentro del diccionario"
   ]
  },
  {
   "cell_type": "code",
   "execution_count": 146,
   "id": "df8eedb8",
   "metadata": {},
   "outputs": [],
   "source": [
    "df1 = resp.json()['@context']  #campos específicos"
   ]
  },
  {
   "cell_type": "code",
   "execution_count": 148,
   "id": "e31e08f0",
   "metadata": {},
   "outputs": [
    {
     "data": {
      "text/plain": [
       "dict_keys(['c', 'dcterms', 'geo', 'loc', 'org', 'vcard', 'schema', 'title', 'id', 'relation', 'references', 'address', 'area', 'district', 'locality', 'postal-code', 'street-address', 'location', 'latitude', 'longitude', 'organization', 'organization-desc', 'accesibility', 'services', 'schedule', 'organization-name', 'description', 'link', 'uid', 'dtstart', 'dtend', 'time', 'excluded-days', 'event-location', 'free', 'price', 'recurrence', 'days', 'frequency', 'interval', 'audience'])"
      ]
     },
     "execution_count": 148,
     "metadata": {},
     "output_type": "execute_result"
    }
   ],
   "source": [
    "df1.keys()"
   ]
  },
  {
   "cell_type": "code",
   "execution_count": null,
   "id": "54f068e0",
   "metadata": {},
   "outputs": [],
   "source": []
  },
  {
   "cell_type": "code",
   "execution_count": 41,
   "id": "e8e62c0c",
   "metadata": {
    "scrolled": true
   },
   "outputs": [
    {
     "data": {
      "text/plain": [
       "{'@id': 'https://datos.madrid.es/egob/catalogo/tipo/entidadesyorganismos/8053214-bibliored.json',\n",
       " '@type': 'https://datos.madrid.es/egob/kos/entidadesYorganismos/BibliotecasPublicas',\n",
       " 'id': '8053214',\n",
       " 'title': 'Bibliored',\n",
       " 'relation': 'http://www.madrid.es/sites/v/index.jsp?vgnextchannel=bfa48ab43d6bb410VgnVCM100000171f5a0aRCRD&vgnextoid=917c40221457d410VgnVCM2000000c205a0aRCRD',\n",
       " 'address': {'district': {'@id': 'https://datos.madrid.es/egob/kos/Provincia/Madrid/Municipio/Madrid/Distrito/Chamartin'},\n",
       "  'area': {'@id': 'https://datos.madrid.es/egob/kos/Provincia/Madrid/Municipio/Madrid/Distrito/Chamartin/Barrio/CiudadJardin'},\n",
       "  'locality': 'MADRID',\n",
       "  'postal-code': '28002',\n",
       "  'street-address': 'CALLE PRINCIPE DE VERGARA 140'},\n",
       " 'location': {'latitude': 40.44444653179131, 'longitude': -3.67813993012987},\n",
       " 'organization': {'organization-desc': 'El Bibliored es un servicio de extensión bibliotecaria destinado al fomento de la lectura mediante el préstamo gratuito de libros, un proyecto similar al de Bibliometro pero en la superficie. Existen dos módulos: el de el Centro Cultural Galileo y la Sala León Felipe. El servicio, gestionado por el Ayuntamiento de Madrid, se coordina desde el Departamento de Bibliotecas Públicas, localizado en la calle Príncipe de Vergara, 140.\\xa0\\xa0',\n",
       "  'accesibility': '1',\n",
       "  'schedule': 'Apertura de lunes a viernes.  Horario: de 13:30 a 20 horas.  Cerrado: festivos y los días 24 y 31 de diciembre.',\n",
       "  'services': 'Datos de localización:   Bibliored Galileo: calle Galileo, 39 (Chamberí). Teléfono: 915 913 901.   Bibliored León Felipe: calle Leonor Góngora, 19 (Villaverde). Teléfono: 915884181.   Servicios:  Préstamo y renovación de libros.  Acceda al catálogo  para la búsqueda de libros y renovar sus préstamos.',\n",
       "  'organization-name': 'Bibliored'}}"
      ]
     },
     "execution_count": 41,
     "metadata": {},
     "output_type": "execute_result"
    }
   ],
   "source": [
    "para_sacar = resp.json()['@graph']    #Campos \n",
    "para_sacar[1]"
   ]
  },
  {
   "cell_type": "code",
   "execution_count": 43,
   "id": "58d2b864",
   "metadata": {},
   "outputs": [
    {
     "data": {
      "text/plain": [
       "dict_keys(['@id', '@type', 'id', 'title', 'relation', 'address', 'location', 'organization'])"
      ]
     },
     "execution_count": 43,
     "metadata": {},
     "output_type": "execute_result"
    }
   ],
   "source": [
    "para_sacar[1].keys()   #para ver las keys del dict"
   ]
  },
  {
   "cell_type": "code",
   "execution_count": null,
   "id": "72b90c51",
   "metadata": {},
   "outputs": [],
   "source": []
  },
  {
   "cell_type": "code",
   "execution_count": 65,
   "id": "7e1d5bce",
   "metadata": {},
   "outputs": [],
   "source": [
    "marco = json_normalize(para_sacar)   #F U N C I O N A. Te saca las columnas bien. "
   ]
  },
  {
   "cell_type": "code",
   "execution_count": 66,
   "id": "2b021cb0",
   "metadata": {},
   "outputs": [
    {
     "data": {
      "text/plain": [
       "pandas.core.frame.DataFrame"
      ]
     },
     "execution_count": 66,
     "metadata": {},
     "output_type": "execute_result"
    }
   ],
   "source": [
    "type(marco)    #YA es un df"
   ]
  },
  {
   "cell_type": "code",
   "execution_count": 67,
   "id": "334c867e",
   "metadata": {},
   "outputs": [
    {
     "data": {
      "text/plain": [
       "@id                                object\n",
       "@type                              object\n",
       "id                                 object\n",
       "title                              object\n",
       "relation                           object\n",
       "address.district.@id               object\n",
       "address.area.@id                   object\n",
       "address.locality                   object\n",
       "address.postal-code                object\n",
       "address.street-address             object\n",
       "location.latitude                 float64\n",
       "location.longitude                float64\n",
       "organization.organization-desc     object\n",
       "organization.accesibility          object\n",
       "organization.schedule              object\n",
       "organization.services              object\n",
       "organization.organization-name     object\n",
       "dtype: object"
      ]
     },
     "execution_count": 67,
     "metadata": {},
     "output_type": "execute_result"
    }
   ],
   "source": [
    "marco.dtypes   #vemos a ver"
   ]
  },
  {
   "cell_type": "code",
   "execution_count": 69,
   "id": "a637f62d",
   "metadata": {},
   "outputs": [
    {
     "data": {
      "text/plain": [
       "(50, 17)"
      ]
     },
     "execution_count": 69,
     "metadata": {},
     "output_type": "execute_result"
    }
   ],
   "source": [
    "marco.shape"
   ]
  },
  {
   "cell_type": "code",
   "execution_count": 88,
   "id": "105e6246",
   "metadata": {},
   "outputs": [],
   "source": [
    "donde_cuales = marco[\"title\"], [\"location.latitude \"], [\"location.longitude\"]    #type() = tupla\n",
    "\n",
    "#este método no."
   ]
  },
  {
   "cell_type": "code",
   "execution_count": 102,
   "id": "9c0da910",
   "metadata": {},
   "outputs": [],
   "source": [
    "#marco_constr=marco_constr[\"nombre\"][\"latitude\"][\"long\"]"
   ]
  },
  {
   "cell_type": "code",
   "execution_count": 107,
   "id": "771cd07d",
   "metadata": {},
   "outputs": [
    {
     "data": {
      "text/html": [
       "<div>\n",
       "<style scoped>\n",
       "    .dataframe tbody tr th:only-of-type {\n",
       "        vertical-align: middle;\n",
       "    }\n",
       "\n",
       "    .dataframe tbody tr th {\n",
       "        vertical-align: top;\n",
       "    }\n",
       "\n",
       "    .dataframe thead th {\n",
       "        text-align: right;\n",
       "    }\n",
       "</style>\n",
       "<table border=\"1\" class=\"dataframe\">\n",
       "  <thead>\n",
       "    <tr style=\"text-align: right;\">\n",
       "      <th></th>\n",
       "      <th>title</th>\n",
       "      <th>location.latitude</th>\n",
       "      <th>location.longitude</th>\n",
       "    </tr>\n",
       "  </thead>\n",
       "  <tbody>\n",
       "    <tr>\n",
       "      <th>0</th>\n",
       "      <td>Bibliometro</td>\n",
       "      <td>40.444447</td>\n",
       "      <td>-3.678140</td>\n",
       "    </tr>\n",
       "    <tr>\n",
       "      <th>1</th>\n",
       "      <td>Bibliored</td>\n",
       "      <td>40.444447</td>\n",
       "      <td>-3.678140</td>\n",
       "    </tr>\n",
       "    <tr>\n",
       "      <th>2</th>\n",
       "      <td>Biblioteca Pública Antonio Mingote (Latina)</td>\n",
       "      <td>40.379442</td>\n",
       "      <td>-3.769446</td>\n",
       "    </tr>\n",
       "    <tr>\n",
       "      <th>3</th>\n",
       "      <td>Biblioteca Pública Elena Fortún (Retiro)</td>\n",
       "      <td>40.403570</td>\n",
       "      <td>-3.672415</td>\n",
       "    </tr>\n",
       "    <tr>\n",
       "      <th>4</th>\n",
       "      <td>Biblioteca Pública Hortaleza</td>\n",
       "      <td>40.477232</td>\n",
       "      <td>-3.649625</td>\n",
       "    </tr>\n",
       "  </tbody>\n",
       "</table>\n",
       "</div>"
      ],
      "text/plain": [
       "                                         title  location.latitude  \\\n",
       "0                                  Bibliometro          40.444447   \n",
       "1                                    Bibliored          40.444447   \n",
       "2  Biblioteca Pública Antonio Mingote (Latina)          40.379442   \n",
       "3     Biblioteca Pública Elena Fortún (Retiro)          40.403570   \n",
       "4                 Biblioteca Pública Hortaleza          40.477232   \n",
       "\n",
       "   location.longitude  \n",
       "0           -3.678140  \n",
       "1           -3.678140  \n",
       "2           -3.769446  \n",
       "3           -3.672415  \n",
       "4           -3.649625  "
      ]
     },
     "execution_count": 107,
     "metadata": {},
     "output_type": "execute_result"
    }
   ],
   "source": [
    "loc_lat = marco[[\"title\", \"location.latitude\", \"location.longitude\"]]  #Selección de columnas dentro del data \n",
    "loc_lat.head()"
   ]
  },
  {
   "cell_type": "code",
   "execution_count": 109,
   "id": "edffa2f5",
   "metadata": {},
   "outputs": [
    {
     "data": {
      "text/plain": [
       "(50, 3)"
      ]
     },
     "execution_count": 109,
     "metadata": {},
     "output_type": "execute_result"
    }
   ],
   "source": [
    "loc_lat.shape"
   ]
  },
  {
   "cell_type": "markdown",
   "id": "265a2c14",
   "metadata": {},
   "source": [
    "# 🔥🔥🔥 CREAR EL CSV!!!! 🔥🔥🔥"
   ]
  },
  {
   "cell_type": "code",
   "execution_count": 122,
   "id": "cc32a546",
   "metadata": {},
   "outputs": [],
   "source": [
    "loc_lat.to_csv(\"../book_lovers/loc_lat.csv\")    #WORKS!!!"
   ]
  },
  {
   "cell_type": "code",
   "execution_count": 123,
   "id": "e8cd1f73",
   "metadata": {},
   "outputs": [],
   "source": [
    "loc_lat.to_excel('../book_lovers/loc_lat.xls', index=True)  #Also works, just to try ^^"
   ]
  },
  {
   "cell_type": "markdown",
   "id": "69aa2bef",
   "metadata": {},
   "source": [
    "# Folium? 📄"
   ]
  },
  {
   "cell_type": "code",
   "execution_count": 124,
   "id": "19cbd121",
   "metadata": {},
   "outputs": [
    {
     "name": "stdout",
     "output_type": "stream",
     "text": [
      "Collecting folium\n",
      "  Downloading folium-0.12.1.post1-py2.py3-none-any.whl (95 kB)\n",
      "\u001b[K     |████████████████████████████████| 95 kB 2.2 MB/s eta 0:00:01\n",
      "\u001b[?25hRequirement already satisfied: jinja2>=2.9 in /Users/lucia/opt/anaconda3/lib/python3.9/site-packages (from folium) (2.11.3)\n",
      "Requirement already satisfied: numpy in /Users/lucia/opt/anaconda3/lib/python3.9/site-packages (from folium) (1.20.3)\n",
      "Requirement already satisfied: requests in /Users/lucia/opt/anaconda3/lib/python3.9/site-packages (from folium) (2.26.0)\n",
      "Collecting branca>=0.3.0\n",
      "  Downloading branca-0.5.0-py3-none-any.whl (24 kB)\n",
      "Requirement already satisfied: MarkupSafe>=0.23 in /Users/lucia/opt/anaconda3/lib/python3.9/site-packages (from jinja2>=2.9->folium) (1.1.1)\n",
      "Requirement already satisfied: certifi>=2017.4.17 in /Users/lucia/opt/anaconda3/lib/python3.9/site-packages (from requests->folium) (2021.10.8)\n",
      "Requirement already satisfied: urllib3<1.27,>=1.21.1 in /Users/lucia/opt/anaconda3/lib/python3.9/site-packages (from requests->folium) (1.26.7)\n",
      "Requirement already satisfied: idna<4,>=2.5 in /Users/lucia/opt/anaconda3/lib/python3.9/site-packages (from requests->folium) (3.2)\n",
      "Requirement already satisfied: charset-normalizer~=2.0.0 in /Users/lucia/opt/anaconda3/lib/python3.9/site-packages (from requests->folium) (2.0.4)\n",
      "Installing collected packages: branca, folium\n",
      "Successfully installed branca-0.5.0 folium-0.12.1.post1\n"
     ]
    }
   ],
   "source": [
    "!pip install folium"
   ]
  },
  {
   "cell_type": "code",
   "execution_count": 126,
   "id": "c9b570a1",
   "metadata": {},
   "outputs": [],
   "source": [
    "import folium\n"
   ]
  },
  {
   "cell_type": "code",
   "execution_count": 127,
   "id": "20c5fd15",
   "metadata": {},
   "outputs": [
    {
     "data": {
      "text/html": [
       "<div style=\"width:100%;\"><div style=\"position:relative;width:100%;height:0;padding-bottom:60%;\"><span style=\"color:#565656\">Make this Notebook Trusted to load map: File -> Trust Notebook</span><iframe srcdoc=\"&lt;!DOCTYPE html&gt;\n",
       "&lt;head&gt;    \n",
       "    &lt;meta http-equiv=&quot;content-type&quot; content=&quot;text/html; charset=UTF-8&quot; /&gt;\n",
       "    \n",
       "        &lt;script&gt;\n",
       "            L_NO_TOUCH = false;\n",
       "            L_DISABLE_3D = false;\n",
       "        &lt;/script&gt;\n",
       "    \n",
       "    &lt;style&gt;html, body {width: 100%;height: 100%;margin: 0;padding: 0;}&lt;/style&gt;\n",
       "    &lt;style&gt;#map {position:absolute;top:0;bottom:0;right:0;left:0;}&lt;/style&gt;\n",
       "    &lt;script src=&quot;https://cdn.jsdelivr.net/npm/leaflet@1.6.0/dist/leaflet.js&quot;&gt;&lt;/script&gt;\n",
       "    &lt;script src=&quot;https://code.jquery.com/jquery-1.12.4.min.js&quot;&gt;&lt;/script&gt;\n",
       "    &lt;script src=&quot;https://maxcdn.bootstrapcdn.com/bootstrap/3.2.0/js/bootstrap.min.js&quot;&gt;&lt;/script&gt;\n",
       "    &lt;script src=&quot;https://cdnjs.cloudflare.com/ajax/libs/Leaflet.awesome-markers/2.0.2/leaflet.awesome-markers.js&quot;&gt;&lt;/script&gt;\n",
       "    &lt;link rel=&quot;stylesheet&quot; href=&quot;https://cdn.jsdelivr.net/npm/leaflet@1.6.0/dist/leaflet.css&quot;/&gt;\n",
       "    &lt;link rel=&quot;stylesheet&quot; href=&quot;https://maxcdn.bootstrapcdn.com/bootstrap/3.2.0/css/bootstrap.min.css&quot;/&gt;\n",
       "    &lt;link rel=&quot;stylesheet&quot; href=&quot;https://maxcdn.bootstrapcdn.com/bootstrap/3.2.0/css/bootstrap-theme.min.css&quot;/&gt;\n",
       "    &lt;link rel=&quot;stylesheet&quot; href=&quot;https://maxcdn.bootstrapcdn.com/font-awesome/4.6.3/css/font-awesome.min.css&quot;/&gt;\n",
       "    &lt;link rel=&quot;stylesheet&quot; href=&quot;https://cdnjs.cloudflare.com/ajax/libs/Leaflet.awesome-markers/2.0.2/leaflet.awesome-markers.css&quot;/&gt;\n",
       "    &lt;link rel=&quot;stylesheet&quot; href=&quot;https://cdn.jsdelivr.net/gh/python-visualization/folium/folium/templates/leaflet.awesome.rotate.min.css&quot;/&gt;\n",
       "    \n",
       "            &lt;meta name=&quot;viewport&quot; content=&quot;width=device-width,\n",
       "                initial-scale=1.0, maximum-scale=1.0, user-scalable=no&quot; /&gt;\n",
       "            &lt;style&gt;\n",
       "                #map_e5cac687e79795f5fa4355fcf9ff19ae {\n",
       "                    position: relative;\n",
       "                    width: 100.0%;\n",
       "                    height: 100.0%;\n",
       "                    left: 0.0%;\n",
       "                    top: 0.0%;\n",
       "                }\n",
       "            &lt;/style&gt;\n",
       "        \n",
       "&lt;/head&gt;\n",
       "&lt;body&gt;    \n",
       "    \n",
       "            &lt;div class=&quot;folium-map&quot; id=&quot;map_e5cac687e79795f5fa4355fcf9ff19ae&quot; &gt;&lt;/div&gt;\n",
       "        \n",
       "&lt;/body&gt;\n",
       "&lt;script&gt;    \n",
       "    \n",
       "            var map_e5cac687e79795f5fa4355fcf9ff19ae = L.map(\n",
       "                &quot;map_e5cac687e79795f5fa4355fcf9ff19ae&quot;,\n",
       "                {\n",
       "                    center: [40.4167, -3.70325],\n",
       "                    crs: L.CRS.EPSG3857,\n",
       "                    zoom: 10,\n",
       "                    zoomControl: true,\n",
       "                    preferCanvas: false,\n",
       "                }\n",
       "            );\n",
       "\n",
       "            \n",
       "\n",
       "        \n",
       "    \n",
       "            var tile_layer_9de1d2d5aa56db065b37ad787d7c502e = L.tileLayer(\n",
       "                &quot;https://{s}.tile.openstreetmap.org/{z}/{x}/{y}.png&quot;,\n",
       "                {&quot;attribution&quot;: &quot;Data by \\u0026copy; \\u003ca href=\\&quot;http://openstreetmap.org\\&quot;\\u003eOpenStreetMap\\u003c/a\\u003e, under \\u003ca href=\\&quot;http://www.openstreetmap.org/copyright\\&quot;\\u003eODbL\\u003c/a\\u003e.&quot;, &quot;detectRetina&quot;: false, &quot;maxNativeZoom&quot;: 18, &quot;maxZoom&quot;: 18, &quot;minZoom&quot;: 0, &quot;noWrap&quot;: false, &quot;opacity&quot;: 1, &quot;subdomains&quot;: &quot;abc&quot;, &quot;tms&quot;: false}\n",
       "            ).addTo(map_e5cac687e79795f5fa4355fcf9ff19ae);\n",
       "        \n",
       "&lt;/script&gt;\" style=\"position:absolute;width:100%;height:100%;left:0;top:0;border:none !important;\" allowfullscreen webkitallowfullscreen mozallowfullscreen></iframe></div></div>"
      ],
      "text/plain": [
       "<folium.folium.Map at 0x7ff3bab8eee0>"
      ]
     },
     "execution_count": 127,
     "metadata": {},
     "output_type": "execute_result"
    }
   ],
   "source": [
    "import folium\n",
    "mapa = folium.Map(location=[40.4167,  -3.70325 ])    #coordenadas de Mandril 🐒\n",
    "mapa"
   ]
  },
  {
   "cell_type": "code",
   "execution_count": 138,
   "id": "59eb78b9",
   "metadata": {},
   "outputs": [
    {
     "data": {
      "text/plain": [
       "<folium.vector_layers.CircleMarker at 0x7ff3bb0a70d0>"
      ]
     },
     "execution_count": 138,
     "metadata": {},
     "output_type": "execute_result"
    }
   ],
   "source": [
    "#I want a circlecito\n",
    "folium.CircleMarker([40.4167,  -3.70325 ], # lat-lon del marcador\n",
    "                    radius=10,       # tamaño del marcador, radio del circulo\n",
    "                    icon=folium.Icon()).add_to(mapa)    #Yeees"
   ]
  },
  {
   "cell_type": "code",
   "execution_count": 140,
   "id": "1a85b40e",
   "metadata": {},
   "outputs": [],
   "source": [
    "import folium\n",
    "from folium import plugins    "
   ]
  },
  {
   "cell_type": "code",
   "execution_count": 141,
   "id": "076d3ae1",
   "metadata": {},
   "outputs": [
    {
     "data": {
      "text/html": [
       "<div style=\"width:100%;\"><div style=\"position:relative;width:100%;height:0;padding-bottom:60%;\"><span style=\"color:#565656\">Make this Notebook Trusted to load map: File -> Trust Notebook</span><iframe srcdoc=\"&lt;!DOCTYPE html&gt;\n",
       "&lt;head&gt;    \n",
       "    &lt;meta http-equiv=&quot;content-type&quot; content=&quot;text/html; charset=UTF-8&quot; /&gt;\n",
       "    \n",
       "        &lt;script&gt;\n",
       "            L_NO_TOUCH = false;\n",
       "            L_DISABLE_3D = false;\n",
       "        &lt;/script&gt;\n",
       "    \n",
       "    &lt;style&gt;html, body {width: 100%;height: 100%;margin: 0;padding: 0;}&lt;/style&gt;\n",
       "    &lt;style&gt;#map {position:absolute;top:0;bottom:0;right:0;left:0;}&lt;/style&gt;\n",
       "    &lt;script src=&quot;https://cdn.jsdelivr.net/npm/leaflet@1.6.0/dist/leaflet.js&quot;&gt;&lt;/script&gt;\n",
       "    &lt;script src=&quot;https://code.jquery.com/jquery-1.12.4.min.js&quot;&gt;&lt;/script&gt;\n",
       "    &lt;script src=&quot;https://maxcdn.bootstrapcdn.com/bootstrap/3.2.0/js/bootstrap.min.js&quot;&gt;&lt;/script&gt;\n",
       "    &lt;script src=&quot;https://cdnjs.cloudflare.com/ajax/libs/Leaflet.awesome-markers/2.0.2/leaflet.awesome-markers.js&quot;&gt;&lt;/script&gt;\n",
       "    &lt;link rel=&quot;stylesheet&quot; href=&quot;https://cdn.jsdelivr.net/npm/leaflet@1.6.0/dist/leaflet.css&quot;/&gt;\n",
       "    &lt;link rel=&quot;stylesheet&quot; href=&quot;https://maxcdn.bootstrapcdn.com/bootstrap/3.2.0/css/bootstrap.min.css&quot;/&gt;\n",
       "    &lt;link rel=&quot;stylesheet&quot; href=&quot;https://maxcdn.bootstrapcdn.com/bootstrap/3.2.0/css/bootstrap-theme.min.css&quot;/&gt;\n",
       "    &lt;link rel=&quot;stylesheet&quot; href=&quot;https://maxcdn.bootstrapcdn.com/font-awesome/4.6.3/css/font-awesome.min.css&quot;/&gt;\n",
       "    &lt;link rel=&quot;stylesheet&quot; href=&quot;https://cdnjs.cloudflare.com/ajax/libs/Leaflet.awesome-markers/2.0.2/leaflet.awesome-markers.css&quot;/&gt;\n",
       "    &lt;link rel=&quot;stylesheet&quot; href=&quot;https://cdn.jsdelivr.net/gh/python-visualization/folium/folium/templates/leaflet.awesome.rotate.min.css&quot;/&gt;\n",
       "    \n",
       "            &lt;meta name=&quot;viewport&quot; content=&quot;width=device-width,\n",
       "                initial-scale=1.0, maximum-scale=1.0, user-scalable=no&quot; /&gt;\n",
       "            &lt;style&gt;\n",
       "                #map_e5cac687e79795f5fa4355fcf9ff19ae {\n",
       "                    position: relative;\n",
       "                    width: 100.0%;\n",
       "                    height: 100.0%;\n",
       "                    left: 0.0%;\n",
       "                    top: 0.0%;\n",
       "                }\n",
       "            &lt;/style&gt;\n",
       "        \n",
       "    &lt;script src=&quot;https://cdn.jsdelivr.net/gh/python-visualization/folium@master/folium/templates/leaflet_heat.min.js&quot;&gt;&lt;/script&gt;\n",
       "&lt;/head&gt;\n",
       "&lt;body&gt;    \n",
       "    \n",
       "            &lt;div class=&quot;folium-map&quot; id=&quot;map_e5cac687e79795f5fa4355fcf9ff19ae&quot; &gt;&lt;/div&gt;\n",
       "        \n",
       "&lt;/body&gt;\n",
       "&lt;script&gt;    \n",
       "    \n",
       "            var map_e5cac687e79795f5fa4355fcf9ff19ae = L.map(\n",
       "                &quot;map_e5cac687e79795f5fa4355fcf9ff19ae&quot;,\n",
       "                {\n",
       "                    center: [40.4167, -3.70325],\n",
       "                    crs: L.CRS.EPSG3857,\n",
       "                    zoom: 10,\n",
       "                    zoomControl: true,\n",
       "                    preferCanvas: false,\n",
       "                }\n",
       "            );\n",
       "\n",
       "            \n",
       "\n",
       "        \n",
       "    \n",
       "            var tile_layer_9de1d2d5aa56db065b37ad787d7c502e = L.tileLayer(\n",
       "                &quot;https://{s}.tile.openstreetmap.org/{z}/{x}/{y}.png&quot;,\n",
       "                {&quot;attribution&quot;: &quot;Data by \\u0026copy; \\u003ca href=\\&quot;http://openstreetmap.org\\&quot;\\u003eOpenStreetMap\\u003c/a\\u003e, under \\u003ca href=\\&quot;http://www.openstreetmap.org/copyright\\&quot;\\u003eODbL\\u003c/a\\u003e.&quot;, &quot;detectRetina&quot;: false, &quot;maxNativeZoom&quot;: 18, &quot;maxZoom&quot;: 18, &quot;minZoom&quot;: 0, &quot;noWrap&quot;: false, &quot;opacity&quot;: 1, &quot;subdomains&quot;: &quot;abc&quot;, &quot;tms&quot;: false}\n",
       "            ).addTo(map_e5cac687e79795f5fa4355fcf9ff19ae);\n",
       "        \n",
       "    \n",
       "            var circle_marker_0068ab71d00e383e55b4d37d57e093d7 = L.circleMarker(\n",
       "                [40.4167, -3.70325],\n",
       "                {&quot;bubblingMouseEvents&quot;: true, &quot;color&quot;: &quot;#3388ff&quot;, &quot;dashArray&quot;: null, &quot;dashOffset&quot;: null, &quot;fill&quot;: false, &quot;fillColor&quot;: &quot;#3388ff&quot;, &quot;fillOpacity&quot;: 0.2, &quot;fillRule&quot;: &quot;evenodd&quot;, &quot;lineCap&quot;: &quot;round&quot;, &quot;lineJoin&quot;: &quot;round&quot;, &quot;opacity&quot;: 1.0, &quot;radius&quot;: 10, &quot;stroke&quot;: true, &quot;weight&quot;: 3}\n",
       "            ).addTo(map_e5cac687e79795f5fa4355fcf9ff19ae);\n",
       "        \n",
       "    \n",
       "            var circle_marker_10a86105e65254560813931fc3d08e66 = L.circleMarker(\n",
       "                [40.4167, -3.70325],\n",
       "                {&quot;bubblingMouseEvents&quot;: true, &quot;color&quot;: &quot;#3388ff&quot;, &quot;dashArray&quot;: null, &quot;dashOffset&quot;: null, &quot;fill&quot;: false, &quot;fillColor&quot;: &quot;#3388ff&quot;, &quot;fillOpacity&quot;: 0.2, &quot;fillRule&quot;: &quot;evenodd&quot;, &quot;lineCap&quot;: &quot;round&quot;, &quot;lineJoin&quot;: &quot;round&quot;, &quot;opacity&quot;: 1.0, &quot;radius&quot;: 10, &quot;stroke&quot;: true, &quot;weight&quot;: 3}\n",
       "            ).addTo(map_e5cac687e79795f5fa4355fcf9ff19ae);\n",
       "        \n",
       "    \n",
       "            var circle_marker_38cd0005bd20b795a4db51614f6c26a5 = L.circleMarker(\n",
       "                [40.4167, -3.70325],\n",
       "                {&quot;bubblingMouseEvents&quot;: true, &quot;color&quot;: &quot;#3388ff&quot;, &quot;dashArray&quot;: null, &quot;dashOffset&quot;: null, &quot;fill&quot;: false, &quot;fillColor&quot;: &quot;#3388ff&quot;, &quot;fillOpacity&quot;: 0.2, &quot;fillRule&quot;: &quot;evenodd&quot;, &quot;lineCap&quot;: &quot;round&quot;, &quot;lineJoin&quot;: &quot;round&quot;, &quot;opacity&quot;: 1.0, &quot;radius&quot;: 10, &quot;stroke&quot;: true, &quot;weight&quot;: 3}\n",
       "            ).addTo(map_e5cac687e79795f5fa4355fcf9ff19ae);\n",
       "        \n",
       "    \n",
       "            var heat_map_3e01fd0db41266e37f2e40e51826307a = L.heatLayer(\n",
       "                [[40.44444653179131, -3.67813993012987], [40.44444653179131, -3.67813993012987], [40.37944226151668, -3.769445829090458], [40.40356992125351, -3.672414651864732], [40.47723185032398, -3.6496247031818596], [40.427942010682415, -3.7169600607379985], [40.38188182427109, -3.7106164073640233], [40.43539063992494, -3.6996132452669075], [40.38091437280583, -3.613674447421734], [40.373420234648606, -3.7480802097487653], [40.34952409541233, -3.710123586489839], [40.38449423079662, -3.6429247082087737], [40.404043531769375, -3.649450874958104], [40.39597072367931, -3.7562716852987847], [40.39786734087938, -3.720088245008897], [40.42738668300474, -3.7105999955473625], [40.44640229188281, -3.6117933204271098], [40.43644651057092, -3.6372924261150033], [40.43199309720514, -3.670929243543714], [40.467453379213175, -3.6846112774442705], [40.4166091081099, -3.6795930368034804], [40.39982891410407, -3.621281890570377], [40.44810636195716, -3.6762309620097398], [40.366768324753416, -3.701141063083806], [40.37790196240434, -3.6227296605039516], [40.46055947228695, -3.5937461811785347], [40.47571688103069, -3.64667257750353], [40.41410290844665, -3.7098591212735883], [40.433291625973624, -3.6105662311927453], [40.47860087334554, -3.7094408342979954], [40.38330593504341, -3.7420633861175796], [40.42342659084215, -3.651841641389484], [40.45749513485957, -3.710539712535917], [40.426642215368176, -3.699722994908341], [40.49041562546542, -3.655356751728003], [40.46903299144094, -3.6976620067964996], [40.40971737692924, -3.6529822109115133], [40.42941133441142, -3.6416899839787695], [40.393189968014696, -3.6554147649183943], [40.3735856436473, -3.6602546064905397], [40.40003652682007, -3.7074488154950584], [40.420231627534996, -3.6218113860909074], [40.3711623444796, -3.692742821990015], [40.395023959810636, -3.665554302127492], [40.405283650744316, -3.6086278232922804], [40.397074625115906, -3.7664885474841556], [40.40709558029403, -3.711046518464516], [40.48791129077104, -3.6984002338920092], [40.446595985821794, -3.7028897237155656], [40.43440083847048, -3.66897244650415]],\n",
       "                {&quot;blur&quot;: 15, &quot;maxZoom&quot;: 18, &quot;minOpacity&quot;: 0.5, &quot;radius&quot;: 15}\n",
       "            ).addTo(map_e5cac687e79795f5fa4355fcf9ff19ae);\n",
       "        \n",
       "&lt;/script&gt;\" style=\"position:absolute;width:100%;height:100%;left:0;top:0;border:none !important;\" allowfullscreen webkitallowfullscreen mozallowfullscreen></iframe></div></div>"
      ],
      "text/plain": [
       "<folium.folium.Map at 0x7ff3bab8eee0>"
      ]
     },
     "execution_count": 141,
     "metadata": {},
     "output_type": "execute_result"
    }
   ],
   "source": [
    "datos =loc_lat[['location.latitude', 'location.longitude']].values   #No me puedo creer lo que acabo de hacer\n",
    "\n",
    "mapa.add_child(plugins.HeatMap(datos, radius=15))\n",
    "\n",
    "mapa"
   ]
  },
  {
   "cell_type": "code",
   "execution_count": null,
   "id": "6814f400",
   "metadata": {},
   "outputs": [],
   "source": []
  },
  {
   "cell_type": "markdown",
   "id": "f8a0dad3",
   "metadata": {},
   "source": [
    "# Vamos a hacer una prelimpieza preventiva 🤓"
   ]
  },
  {
   "cell_type": "code",
   "execution_count": 166,
   "id": "0c183fef",
   "metadata": {},
   "outputs": [
    {
     "ename": "FileNotFoundError",
     "evalue": "[Errno 2] No such file or directory: '../infinite_datasets/300395-0-mobiliario-urbano-mayores.csv'",
     "output_type": "error",
     "traceback": [
      "\u001b[0;31m---------------------------------------------------------------------------\u001b[0m",
      "\u001b[0;31mFileNotFoundError\u001b[0m                         Traceback (most recent call last)",
      "\u001b[0;32m/var/folders/bp/5cqvvvwn7p14588p725frs740000gn/T/ipykernel_12461/3786085125.py\u001b[0m in \u001b[0;36m<module>\u001b[0;34m\u001b[0m\n\u001b[1;32m      1\u001b[0m \u001b[0;31m#mupis_informativos = pd.read_csv('../infinite_datasets/300395-0-mobiliario-urbano-mayores.csv', sep=';', encoding='UTF8')\u001b[0m\u001b[0;34m\u001b[0m\u001b[0;34m\u001b[0m\u001b[0m\n\u001b[0;32m----> 2\u001b[0;31m \u001b[0mjuegos_mayores\u001b[0m \u001b[0;34m=\u001b[0m \u001b[0mpd\u001b[0m\u001b[0;34m.\u001b[0m\u001b[0mread_csv\u001b[0m\u001b[0;34m(\u001b[0m\u001b[0;34m'../infinite_datasets/300395-0-mobiliario-urbano-mayores.csv'\u001b[0m\u001b[0;34m,\u001b[0m \u001b[0msep\u001b[0m\u001b[0;34m=\u001b[0m\u001b[0;34m';'\u001b[0m\u001b[0;34m,\u001b[0m \u001b[0mencoding\u001b[0m\u001b[0;34m=\u001b[0m\u001b[0;34m'latin-1'\u001b[0m\u001b[0;34m)\u001b[0m\u001b[0;34m\u001b[0m\u001b[0;34m\u001b[0m\u001b[0m\n\u001b[0m\u001b[1;32m      3\u001b[0m \u001b[0mbancos\u001b[0m \u001b[0;34m=\u001b[0m \u001b[0mpd\u001b[0m\u001b[0;34m.\u001b[0m\u001b[0mread_csv\u001b[0m\u001b[0;34m(\u001b[0m\u001b[0;34m'300095-5-mobiliario-bancos.csv'\u001b[0m\u001b[0;34m,\u001b[0m \u001b[0msep\u001b[0m\u001b[0;34m=\u001b[0m\u001b[0;34m';'\u001b[0m\u001b[0;34m,\u001b[0m \u001b[0mencoding\u001b[0m\u001b[0;34m=\u001b[0m\u001b[0;34m'latin-1'\u001b[0m\u001b[0;34m)\u001b[0m\u001b[0;34m\u001b[0m\u001b[0;34m\u001b[0m\u001b[0m\n\u001b[1;32m      4\u001b[0m \u001b[0mmupis_pilas\u001b[0m \u001b[0;34m=\u001b[0m \u001b[0mpd\u001b[0m\u001b[0;34m.\u001b[0m\u001b[0mread_csv\u001b[0m\u001b[0;34m(\u001b[0m\u001b[0;34m'300384-1-mupi-pilas.csv'\u001b[0m\u001b[0;34m,\u001b[0m \u001b[0msep\u001b[0m\u001b[0;34m=\u001b[0m\u001b[0;34m';'\u001b[0m\u001b[0;34m,\u001b[0m \u001b[0mencoding\u001b[0m\u001b[0;34m=\u001b[0m\u001b[0;34m'UTF8'\u001b[0m\u001b[0;34m)\u001b[0m\u001b[0;34m\u001b[0m\u001b[0;34m\u001b[0m\u001b[0m\n\u001b[1;32m      5\u001b[0m \u001b[0maseos\u001b[0m \u001b[0;34m=\u001b[0m \u001b[0mpd\u001b[0m\u001b[0;34m.\u001b[0m\u001b[0mread_csv\u001b[0m\u001b[0;34m(\u001b[0m\u001b[0;34m'300103-2-Aseos-Publicos-Operativos.csv'\u001b[0m\u001b[0;34m,\u001b[0m \u001b[0msep\u001b[0m\u001b[0;34m=\u001b[0m\u001b[0;34m';'\u001b[0m\u001b[0;34m,\u001b[0m \u001b[0mencoding\u001b[0m\u001b[0;34m=\u001b[0m\u001b[0;34m'UTF8'\u001b[0m\u001b[0;34m)\u001b[0m\u001b[0;34m\u001b[0m\u001b[0;34m\u001b[0m\u001b[0m\n",
      "\u001b[0;32m~/opt/anaconda3/lib/python3.9/site-packages/pandas/util/_decorators.py\u001b[0m in \u001b[0;36mwrapper\u001b[0;34m(*args, **kwargs)\u001b[0m\n\u001b[1;32m    309\u001b[0m                     \u001b[0mstacklevel\u001b[0m\u001b[0;34m=\u001b[0m\u001b[0mstacklevel\u001b[0m\u001b[0;34m,\u001b[0m\u001b[0;34m\u001b[0m\u001b[0;34m\u001b[0m\u001b[0m\n\u001b[1;32m    310\u001b[0m                 )\n\u001b[0;32m--> 311\u001b[0;31m             \u001b[0;32mreturn\u001b[0m \u001b[0mfunc\u001b[0m\u001b[0;34m(\u001b[0m\u001b[0;34m*\u001b[0m\u001b[0margs\u001b[0m\u001b[0;34m,\u001b[0m \u001b[0;34m**\u001b[0m\u001b[0mkwargs\u001b[0m\u001b[0;34m)\u001b[0m\u001b[0;34m\u001b[0m\u001b[0;34m\u001b[0m\u001b[0m\n\u001b[0m\u001b[1;32m    312\u001b[0m \u001b[0;34m\u001b[0m\u001b[0m\n\u001b[1;32m    313\u001b[0m         \u001b[0;32mreturn\u001b[0m \u001b[0mwrapper\u001b[0m\u001b[0;34m\u001b[0m\u001b[0;34m\u001b[0m\u001b[0m\n",
      "\u001b[0;32m~/opt/anaconda3/lib/python3.9/site-packages/pandas/io/parsers/readers.py\u001b[0m in \u001b[0;36mread_csv\u001b[0;34m(filepath_or_buffer, sep, delimiter, header, names, index_col, usecols, squeeze, prefix, mangle_dupe_cols, dtype, engine, converters, true_values, false_values, skipinitialspace, skiprows, skipfooter, nrows, na_values, keep_default_na, na_filter, verbose, skip_blank_lines, parse_dates, infer_datetime_format, keep_date_col, date_parser, dayfirst, cache_dates, iterator, chunksize, compression, thousands, decimal, lineterminator, quotechar, quoting, doublequote, escapechar, comment, encoding, encoding_errors, dialect, error_bad_lines, warn_bad_lines, on_bad_lines, delim_whitespace, low_memory, memory_map, float_precision, storage_options)\u001b[0m\n\u001b[1;32m    584\u001b[0m     \u001b[0mkwds\u001b[0m\u001b[0;34m.\u001b[0m\u001b[0mupdate\u001b[0m\u001b[0;34m(\u001b[0m\u001b[0mkwds_defaults\u001b[0m\u001b[0;34m)\u001b[0m\u001b[0;34m\u001b[0m\u001b[0;34m\u001b[0m\u001b[0m\n\u001b[1;32m    585\u001b[0m \u001b[0;34m\u001b[0m\u001b[0m\n\u001b[0;32m--> 586\u001b[0;31m     \u001b[0;32mreturn\u001b[0m \u001b[0m_read\u001b[0m\u001b[0;34m(\u001b[0m\u001b[0mfilepath_or_buffer\u001b[0m\u001b[0;34m,\u001b[0m \u001b[0mkwds\u001b[0m\u001b[0;34m)\u001b[0m\u001b[0;34m\u001b[0m\u001b[0;34m\u001b[0m\u001b[0m\n\u001b[0m\u001b[1;32m    587\u001b[0m \u001b[0;34m\u001b[0m\u001b[0m\n\u001b[1;32m    588\u001b[0m \u001b[0;34m\u001b[0m\u001b[0m\n",
      "\u001b[0;32m~/opt/anaconda3/lib/python3.9/site-packages/pandas/io/parsers/readers.py\u001b[0m in \u001b[0;36m_read\u001b[0;34m(filepath_or_buffer, kwds)\u001b[0m\n\u001b[1;32m    480\u001b[0m \u001b[0;34m\u001b[0m\u001b[0m\n\u001b[1;32m    481\u001b[0m     \u001b[0;31m# Create the parser.\u001b[0m\u001b[0;34m\u001b[0m\u001b[0;34m\u001b[0m\u001b[0m\n\u001b[0;32m--> 482\u001b[0;31m     \u001b[0mparser\u001b[0m \u001b[0;34m=\u001b[0m \u001b[0mTextFileReader\u001b[0m\u001b[0;34m(\u001b[0m\u001b[0mfilepath_or_buffer\u001b[0m\u001b[0;34m,\u001b[0m \u001b[0;34m**\u001b[0m\u001b[0mkwds\u001b[0m\u001b[0;34m)\u001b[0m\u001b[0;34m\u001b[0m\u001b[0;34m\u001b[0m\u001b[0m\n\u001b[0m\u001b[1;32m    483\u001b[0m \u001b[0;34m\u001b[0m\u001b[0m\n\u001b[1;32m    484\u001b[0m     \u001b[0;32mif\u001b[0m \u001b[0mchunksize\u001b[0m \u001b[0;32mor\u001b[0m \u001b[0miterator\u001b[0m\u001b[0;34m:\u001b[0m\u001b[0;34m\u001b[0m\u001b[0;34m\u001b[0m\u001b[0m\n",
      "\u001b[0;32m~/opt/anaconda3/lib/python3.9/site-packages/pandas/io/parsers/readers.py\u001b[0m in \u001b[0;36m__init__\u001b[0;34m(self, f, engine, **kwds)\u001b[0m\n\u001b[1;32m    809\u001b[0m             \u001b[0mself\u001b[0m\u001b[0;34m.\u001b[0m\u001b[0moptions\u001b[0m\u001b[0;34m[\u001b[0m\u001b[0;34m\"has_index_names\"\u001b[0m\u001b[0;34m]\u001b[0m \u001b[0;34m=\u001b[0m \u001b[0mkwds\u001b[0m\u001b[0;34m[\u001b[0m\u001b[0;34m\"has_index_names\"\u001b[0m\u001b[0;34m]\u001b[0m\u001b[0;34m\u001b[0m\u001b[0;34m\u001b[0m\u001b[0m\n\u001b[1;32m    810\u001b[0m \u001b[0;34m\u001b[0m\u001b[0m\n\u001b[0;32m--> 811\u001b[0;31m         \u001b[0mself\u001b[0m\u001b[0;34m.\u001b[0m\u001b[0m_engine\u001b[0m \u001b[0;34m=\u001b[0m \u001b[0mself\u001b[0m\u001b[0;34m.\u001b[0m\u001b[0m_make_engine\u001b[0m\u001b[0;34m(\u001b[0m\u001b[0mself\u001b[0m\u001b[0;34m.\u001b[0m\u001b[0mengine\u001b[0m\u001b[0;34m)\u001b[0m\u001b[0;34m\u001b[0m\u001b[0;34m\u001b[0m\u001b[0m\n\u001b[0m\u001b[1;32m    812\u001b[0m \u001b[0;34m\u001b[0m\u001b[0m\n\u001b[1;32m    813\u001b[0m     \u001b[0;32mdef\u001b[0m \u001b[0mclose\u001b[0m\u001b[0;34m(\u001b[0m\u001b[0mself\u001b[0m\u001b[0;34m)\u001b[0m\u001b[0;34m:\u001b[0m\u001b[0;34m\u001b[0m\u001b[0;34m\u001b[0m\u001b[0m\n",
      "\u001b[0;32m~/opt/anaconda3/lib/python3.9/site-packages/pandas/io/parsers/readers.py\u001b[0m in \u001b[0;36m_make_engine\u001b[0;34m(self, engine)\u001b[0m\n\u001b[1;32m   1038\u001b[0m             )\n\u001b[1;32m   1039\u001b[0m         \u001b[0;31m# error: Too many arguments for \"ParserBase\"\u001b[0m\u001b[0;34m\u001b[0m\u001b[0;34m\u001b[0m\u001b[0m\n\u001b[0;32m-> 1040\u001b[0;31m         \u001b[0;32mreturn\u001b[0m \u001b[0mmapping\u001b[0m\u001b[0;34m[\u001b[0m\u001b[0mengine\u001b[0m\u001b[0;34m]\u001b[0m\u001b[0;34m(\u001b[0m\u001b[0mself\u001b[0m\u001b[0;34m.\u001b[0m\u001b[0mf\u001b[0m\u001b[0;34m,\u001b[0m \u001b[0;34m**\u001b[0m\u001b[0mself\u001b[0m\u001b[0;34m.\u001b[0m\u001b[0moptions\u001b[0m\u001b[0;34m)\u001b[0m  \u001b[0;31m# type: ignore[call-arg]\u001b[0m\u001b[0;34m\u001b[0m\u001b[0;34m\u001b[0m\u001b[0m\n\u001b[0m\u001b[1;32m   1041\u001b[0m \u001b[0;34m\u001b[0m\u001b[0m\n\u001b[1;32m   1042\u001b[0m     \u001b[0;32mdef\u001b[0m \u001b[0m_failover_to_python\u001b[0m\u001b[0;34m(\u001b[0m\u001b[0mself\u001b[0m\u001b[0;34m)\u001b[0m\u001b[0;34m:\u001b[0m\u001b[0;34m\u001b[0m\u001b[0;34m\u001b[0m\u001b[0m\n",
      "\u001b[0;32m~/opt/anaconda3/lib/python3.9/site-packages/pandas/io/parsers/c_parser_wrapper.py\u001b[0m in \u001b[0;36m__init__\u001b[0;34m(self, src, **kwds)\u001b[0m\n\u001b[1;32m     49\u001b[0m \u001b[0;34m\u001b[0m\u001b[0m\n\u001b[1;32m     50\u001b[0m         \u001b[0;31m# open handles\u001b[0m\u001b[0;34m\u001b[0m\u001b[0;34m\u001b[0m\u001b[0m\n\u001b[0;32m---> 51\u001b[0;31m         \u001b[0mself\u001b[0m\u001b[0;34m.\u001b[0m\u001b[0m_open_handles\u001b[0m\u001b[0;34m(\u001b[0m\u001b[0msrc\u001b[0m\u001b[0;34m,\u001b[0m \u001b[0mkwds\u001b[0m\u001b[0;34m)\u001b[0m\u001b[0;34m\u001b[0m\u001b[0;34m\u001b[0m\u001b[0m\n\u001b[0m\u001b[1;32m     52\u001b[0m         \u001b[0;32massert\u001b[0m \u001b[0mself\u001b[0m\u001b[0;34m.\u001b[0m\u001b[0mhandles\u001b[0m \u001b[0;32mis\u001b[0m \u001b[0;32mnot\u001b[0m \u001b[0;32mNone\u001b[0m\u001b[0;34m\u001b[0m\u001b[0;34m\u001b[0m\u001b[0m\n\u001b[1;32m     53\u001b[0m \u001b[0;34m\u001b[0m\u001b[0m\n",
      "\u001b[0;32m~/opt/anaconda3/lib/python3.9/site-packages/pandas/io/parsers/base_parser.py\u001b[0m in \u001b[0;36m_open_handles\u001b[0;34m(self, src, kwds)\u001b[0m\n\u001b[1;32m    220\u001b[0m         \u001b[0mLet\u001b[0m \u001b[0mthe\u001b[0m \u001b[0mreaders\u001b[0m \u001b[0mopen\u001b[0m \u001b[0mIOHandles\u001b[0m \u001b[0mafter\u001b[0m \u001b[0mthey\u001b[0m \u001b[0mare\u001b[0m \u001b[0mdone\u001b[0m \u001b[0;32mwith\u001b[0m \u001b[0mtheir\u001b[0m \u001b[0mpotential\u001b[0m \u001b[0mraises\u001b[0m\u001b[0;34m.\u001b[0m\u001b[0;34m\u001b[0m\u001b[0;34m\u001b[0m\u001b[0m\n\u001b[1;32m    221\u001b[0m         \"\"\"\n\u001b[0;32m--> 222\u001b[0;31m         self.handles = get_handle(\n\u001b[0m\u001b[1;32m    223\u001b[0m             \u001b[0msrc\u001b[0m\u001b[0;34m,\u001b[0m\u001b[0;34m\u001b[0m\u001b[0;34m\u001b[0m\u001b[0m\n\u001b[1;32m    224\u001b[0m             \u001b[0;34m\"r\"\u001b[0m\u001b[0;34m,\u001b[0m\u001b[0;34m\u001b[0m\u001b[0;34m\u001b[0m\u001b[0m\n",
      "\u001b[0;32m~/opt/anaconda3/lib/python3.9/site-packages/pandas/io/common.py\u001b[0m in \u001b[0;36mget_handle\u001b[0;34m(path_or_buf, mode, encoding, compression, memory_map, is_text, errors, storage_options)\u001b[0m\n\u001b[1;32m    700\u001b[0m         \u001b[0;32mif\u001b[0m \u001b[0mioargs\u001b[0m\u001b[0;34m.\u001b[0m\u001b[0mencoding\u001b[0m \u001b[0;32mand\u001b[0m \u001b[0;34m\"b\"\u001b[0m \u001b[0;32mnot\u001b[0m \u001b[0;32min\u001b[0m \u001b[0mioargs\u001b[0m\u001b[0;34m.\u001b[0m\u001b[0mmode\u001b[0m\u001b[0;34m:\u001b[0m\u001b[0;34m\u001b[0m\u001b[0;34m\u001b[0m\u001b[0m\n\u001b[1;32m    701\u001b[0m             \u001b[0;31m# Encoding\u001b[0m\u001b[0;34m\u001b[0m\u001b[0;34m\u001b[0m\u001b[0m\n\u001b[0;32m--> 702\u001b[0;31m             handle = open(\n\u001b[0m\u001b[1;32m    703\u001b[0m                 \u001b[0mhandle\u001b[0m\u001b[0;34m,\u001b[0m\u001b[0;34m\u001b[0m\u001b[0;34m\u001b[0m\u001b[0m\n\u001b[1;32m    704\u001b[0m                 \u001b[0mioargs\u001b[0m\u001b[0;34m.\u001b[0m\u001b[0mmode\u001b[0m\u001b[0;34m,\u001b[0m\u001b[0;34m\u001b[0m\u001b[0;34m\u001b[0m\u001b[0m\n",
      "\u001b[0;31mFileNotFoundError\u001b[0m: [Errno 2] No such file or directory: '../infinite_datasets/300395-0-mobiliario-urbano-mayores.csv'"
     ]
    }
   ],
   "source": [
    "#mupis_informativos = pd.read_csv('../infinite_datasets/300395-0-mobiliario-urbano-mayores.csv', sep=';', encoding='UTF8')\n",
    "juegos_mayores = pd.read_csv('../infinite_datasets/300395-0-mobiliario-urbano-mayores.csv', sep=';', encoding='latin-1')\n",
    "bancos = pd.read_csv('300095-5-mobiliario-bancos.csv', sep=';', encoding='latin-1')\n",
    "mupis_pilas = pd.read_csv('300384-1-mupi-pilas.csv', sep=';', encoding='UTF8')\n",
    "aseos = pd.read_csv('300103-2-Aseos-Publicos-Operativos.csv', sep=';', encoding='UTF8')\n",
    "juegos_infantiles = pd.read_csv('300131-2-mobiliario-juegos-infantiles.csv', sep=';', encoding='latin-1')  \n",
    "mesas = pd.read_csv('300217-3-mobiliario-mesas.csv', sep=';', encoding='latin-1')\n",
    "papeleras_perros = pd.read_csv('300081-2-papeleras-bolsas-excrementos.csv', sep=';', encoding='latin-1')\n",
    "aparca_bicis = pd.read_csv('205099-5-aparca-bicis.csv', sep=';', encoding='latin-1')\n",
    "papeleras = pd.read_csv('300096-6-mobiliario-papeleras.csv', sep=';', encoding='latin-1')              \n",
    "juegos_deportivos = pd.read_csv('300396-0-mobiliario-urbano-deportivos', sep=';', encoding='latin-1')        \n",
    "contenedores_vidrio = pd.read_csv('300232-1-contenedores-vidrio-publicidad.csv', sep=';', encoding='UTF8')\n",
    "\n",
    "\n",
    "\n"
   ]
  },
  {
   "cell_type": "code",
   "execution_count": null,
   "id": "aff8d63e",
   "metadata": {},
   "outputs": [],
   "source": []
  },
  {
   "cell_type": "code",
   "execution_count": null,
   "id": "d08bc0c9",
   "metadata": {},
   "outputs": [],
   "source": []
  },
  {
   "cell_type": "code",
   "execution_count": null,
   "id": "f8e61991",
   "metadata": {},
   "outputs": [],
   "source": []
  }
 ],
 "metadata": {
  "kernelspec": {
   "display_name": "Python 3 (ipykernel)",
   "language": "python",
   "name": "python3"
  },
  "language_info": {
   "codemirror_mode": {
    "name": "ipython",
    "version": 3
   },
   "file_extension": ".py",
   "mimetype": "text/x-python",
   "name": "python",
   "nbconvert_exporter": "python",
   "pygments_lexer": "ipython3",
   "version": "3.9.7"
  }
 },
 "nbformat": 4,
 "nbformat_minor": 5
}
